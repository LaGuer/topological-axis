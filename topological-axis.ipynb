{
 "cells": [
  {
   "cell_type": "code",
   "execution_count": null,
   "metadata": {},
   "outputs": [],
   "source": [
    "!pip install git+git://github.com/mkrphys/ipython-tikzmagic.git"
   ]
  },
  {
   "cell_type": "code",
   "execution_count": 1,
   "metadata": {},
   "outputs": [],
   "source": [
    "%load_ext tikzmagic"
   ]
  },
  {
   "cell_type": "code",
   "execution_count": 73,
   "metadata": {},
   "outputs": [],
   "source": [
    "#%%tikz -f svg"
   ]
  },
  {
   "cell_type": "code",
   "execution_count": 72,
   "metadata": {},
   "outputs": [],
   "source": [
    "#%tikz \\draw (0,0) rectangle (1,1);"
   ]
  },
  {
   "cell_type": "code",
   "execution_count": null,
   "metadata": {
    "init_cell": true,
    "slideshow": {
     "slide_type": "skip"
    }
   },
   "outputs": [],
   "source": [
    "from ipypublish.scripts.ipynb_latex_setup import *"
   ]
  },
  {
   "cell_type": "markdown",
   "metadata": {
    "ipub": {
     "slide": true
    }
   },
   "source": [
    "# Markdown"
   ]
  },
  {
   "cell_type": "markdown",
   "metadata": {
    "ipub": {
     "slide": true
    }
   },
   "source": [
    "## General"
   ]
  },
  {
   "cell_type": "markdown",
   "metadata": {
    "ipub": {
     "slide": true
    }
   },
   "source": [
    "topological-axis.\n",
    "\n",
    "A list:\n",
    "\n",
    "- something\n",
    "- something else\n",
    "\n",
    "A numbered list\n",
    "\n",
    "1. something\n",
    "2. something else"
   ]
  },
  {
   "cell_type": "markdown",
   "metadata": {
    "ipub": {}
   },
   "source": [
    "This is a long section of text, which we only want in a document (not a presentation)\n",
    "some text\n",
    "some more text\n",
    "some more text\n",
    "some more text\n",
    "some more text\n",
    "some more text\n",
    "some more text\n",
    "some more text\n",
    "some more text\n"
   ]
  },
  {
   "cell_type": "markdown",
   "metadata": {
    "ipub": {
     "slide": true,
     "slideonly": true
    }
   },
   "source": [
    "This is an abbreviated section of the document text, which we only want in a presentation\n",
    "\n",
    "- summary of document text"
   ]
  },
  {
   "cell_type": "markdown",
   "metadata": {
    "ipub": {
     "slide": true
    }
   },
   "source": [
    "## References and Citations"
   ]
  },
  {
   "cell_type": "markdown",
   "metadata": {
    "ipub": {
     "slide": true
    }
   },
   "source": [
    "References to \\cref{fig:example}, \\cref{tbl:example}, \\cref{eqn:example_sympy} and \\cref{code:example_mpl}.\n",
    "\n",
    "Referencing multiple items: \\cref{fig:example,fig:example_h,fig:example_v}.\n",
    "\n",
    "A latex citation.\\cite{Back_to_Cosmos_2019}\n",
    "\n",
    "A html citation.<cite data-cite=\"Back to Cosmos, Sanchez et Al. \">(Back to Cosmos, Sanche et Al. Progress in Physics, 2019)</cite> "
   ]
  },
  {
   "cell_type": "markdown",
   "metadata": {
    "ipub": {
     "slide": true
    }
   },
   "source": [
    "## Todo notes"
   ]
  },
  {
   "cell_type": "markdown",
   "metadata": {
    "ipub": {
     "slide": true
    }
   },
   "source": [
    "\\todo[inline]{an inline todo}\n",
    "\n",
    "Some text.\\todo{a todo in the margins}"
   ]
  },
  {
   "cell_type": "markdown",
   "metadata": {},
   "source": [
    "# Text Output"
   ]
  },
  {
   "cell_type": "code",
   "execution_count": 3,
   "metadata": {
    "ipub": {
     "text": {
      "format": {
       "backgroundcolor": "\\color{blue!10}"
      }
     }
    }
   },
   "outputs": [
    {
     "name": "stdout",
     "output_type": "stream",
     "text": [
      "\n",
      "The topological axis follow the law $$exp(2^{d/4})$$,\n",
      "\n"
     ]
    }
   ],
   "source": [
    "print(\"\"\"\n",
    "The topological axis follows the law $$exp(2^{d/4})$$,\n",
    "\"\"\")"
   ]
  },
  {
   "cell_type": "markdown",
   "metadata": {},
   "source": [
    "# Images and Figures"
   ]
  },
  {
   "cell_type": "markdown",
   "metadata": {},
   "source": [
    "## Displaying a plot with its code"
   ]
  },
  {
   "cell_type": "markdown",
   "metadata": {
    "ipub": {
     "caption": "fig:example_mpl"
    }
   },
   "source": [
    "A matplotlib figure, with the caption set in the markdowncell above the figure."
   ]
  },
  {
   "cell_type": "markdown",
   "metadata": {
    "ipub": {
     "caption": "code:example_mpl"
    }
   },
   "source": [
    "The plotting code for a matplotlib figure (\\cref{fig:example_mpl})."
   ]
  },
  {
   "cell_type": "code",
   "execution_count": 3,
   "metadata": {
    "ipub": {
     "code": {
      "asfloat": true,
      "caption": "a",
      "label": "code:example_mpl",
      "widefigure": false
     },
     "figure": {
      "caption": "",
      "label": "fig:example_mpl",
      "widefigure": false
     }
    }
   },
   "outputs": [
    {
     "data": {
      "image/png": "[encoded data removed]",
      "text/plain": [
       "<Figure size 432x288 with 1 Axes>"
      ]
     },
     "metadata": {
      "needs_background": "light"
     },
     "output_type": "display_data"
    }
   ],
   "source": [
    "import matplotlib.pyplot as plt\n",
    "import numpy as np\n",
    "plt.scatter(np.random.rand(10), np.random.rand(10), \n",
    "            label='data label')\n",
    "plt.ylabel(r'a y label with latex $\\alpha$')\n",
    "plt.legend();"
   ]
  },
  {
   "cell_type": "markdown",
   "metadata": {
    "slideshow": {
     "slide_type": "slide"
    }
   },
   "source": [
    "# Tables (with pandas)"
   ]
  },
  {
   "cell_type": "markdown",
   "metadata": {
    "ipub": {
     "caption": "code:example_pd"
    }
   },
   "source": [
    "The plotting code for a pandas Dataframe table (\\cref{tbl:example})."
   ]
  },
  {
   "cell_type": "code",
   "execution_count": 8,
   "metadata": {
    "ipub": {
     "code": {
      "asfloat": true,
      "caption": "",
      "label": "code:example_pd",
      "placement": "H",
      "widefigure": false
     },
     "table": {
      "alternate": "gray!20",
      "caption": "An example of a table created with pandas dataframe.",
      "label": "tbl:example",
      "placement": "H"
     }
    }
   },
   "outputs": [
    {
     "data": {
      "text/html": [
       "<div>\n",
       "<style>\n",
       "    .dataframe thead tr:only-child th {\n",
       "        text-align: right;\n",
       "    }\n",
       "\n",
       "    .dataframe thead th {\n",
       "        text-align: left;\n",
       "    }\n",
       "\n",
       "    .dataframe tbody tr th {\n",
       "        vertical-align: top;\n",
       "    }\n",
       "</style>\n",
       "<table border=\"1\" class=\"dataframe\">\n",
       "  <thead>\n",
       "    <tr style=\"text-align: right;\">\n",
       "      <th></th>\n",
       "      <th>a</th>\n",
       "      <th>b</th>\n",
       "      <th>c</th>\n",
       "      <th>d</th>\n",
       "    </tr>\n",
       "  </thead>\n",
       "  <tbody>\n",
       "    <tr>\n",
       "      <th>0</th>\n",
       "      <td>$\\delta$</td>\n",
       "      <td>l</td>\n",
       "      <td>0.583</td>\n",
       "      <td>0.279</td>\n",
       "    </tr>\n",
       "    <tr>\n",
       "      <th>1</th>\n",
       "      <td>x</td>\n",
       "      <td>m</td>\n",
       "      <td>0.914</td>\n",
       "      <td>0.021</td>\n",
       "    </tr>\n",
       "    <tr>\n",
       "      <th>2</th>\n",
       "      <td>y</td>\n",
       "      <td>n</td>\n",
       "      <td>0.333</td>\n",
       "      <td>0.116</td>\n",
       "    </tr>\n",
       "  </tbody>\n",
       "</table>\n",
       "</div>"
      ],
      "text/latex": [
       "\\begin{tabular}{lllrr}\n",
       "\\toprule\n",
       "{} &         a &  b &      c &      d \\\\\n",
       "\\midrule\n",
       "0 &  $\\delta$ &  l &  0.583 &  0.279 \\\\\n",
       "1 &         x &  m &  0.914 &  0.021 \\\\\n",
       "2 &         y &  n &  0.333 &  0.116 \\\\\n",
       "\\bottomrule\n",
       "\\end{tabular}\n"
      ],
      "text/plain": [
       "          a  b      c      d\n",
       "0  $\\delta$  l  0.583  0.279\n",
       "1         x  m  0.914  0.021\n",
       "2         y  n  0.333  0.116"
      ]
     },
     "execution_count": 8,
     "metadata": {},
     "output_type": "execute_result"
    }
   ],
   "source": [
    "df = pd.DataFrame(np.random.rand(3,4),columns=['a','b','c','d'])\n",
    "df.a = ['$\\delta$','x','y']\n",
    "df.b = ['l','m','n']\n",
    "df.set_index(['a','b'])\n",
    "df.round(3)"
   ]
  },
  {
   "cell_type": "markdown",
   "metadata": {},
   "source": [
    "# Equations (with ipython or sympy)"
   ]
  },
  {
   "cell_type": "code",
   "execution_count": null,
   "metadata": {
    "ipub": {
     "equation": {
      "label": "eqn:example_ipy"
     }
    }
   },
   "outputs": [],
   "source": [
    "Latex('$$ 2\\hbar^2 / Gm_em_pm_n $$')"
   ]
  },
  {
   "cell_type": "markdown",
   "metadata": {
    "ipub": {
     "caption": "code:example_sym"
    }
   },
   "source": [
    "The plotting code for a sympy equation (\\cref{eqn:example_sympy})."
   ]
  },
  {
   "cell_type": "code",
   "execution_count": null,
   "metadata": {
    "ipub": {
     "code": {
      "asfloat": true,
      "caption": "",
      "label": "code:example_sym",
      "placement": "H",
      "widefigure": false
     },
     "equation": {
      "environment": "equation",
      "label": "eqn:example_sympy"
     }
    }
   },
   "outputs": [],
   "source": [
    "f = sym.Function('f')\n",
    "y,n = sym.symbols(r'y \\alpha')\n",
    "f = y(n)-2*y(n-1/sym.pi)-5*y(n-2)\n",
    "sym.rsolve(f,y(n),[1,4])"
   ]
  },
  {
   "cell_type": "markdown",
   "metadata": {
    "slideshow": {
     "slide_type": "slide"
    }
   },
   "source": [
    "# Embed interactive HTML (like ipywidgets)"
   ]
  },
  {
   "cell_type": "markdown",
   "metadata": {
    "ipub": {
     "slide": true
    }
   },
   "source": [
    "Interactive HTML was created using <a href=\"https://ipyvolume.readthedocs.io\">ipyvolume</a>\n",
    "and will render below in .html type outputs:"
   ]
  },
  {
   "cell_type": "code",
   "execution_count": null,
   "metadata": {
    "scrolled": false
   },
   "outputs": [],
   "source": [
    "!pip install ipyvolume"
   ]
  },
  {
   "cell_type": "code",
   "execution_count": 71,
   "metadata": {
    "ipub": {
     "embed_html": {
      "filepath": "../html/embed.html"
     },
     "figure": {
      "caption": "An example of embedded html"
     }
    }
   },
   "outputs": [
    {
     "data": {
      "image/png": "[encoded data removed]",
      "text/plain": [
       "<Figure size 840x980 with 3 Axes>"
      ]
     },
     "metadata": {},
     "output_type": "display_data"
    },
    {
     "data": {
      "application/vnd.jupyter.widget-view+json": {
       "model_id": "a3913bebda0445d7a937d04e84a8cba7",
       "version_major": 2,
       "version_minor": 0
      },
      "text/plain": [
       "VBox(children=(Figure(camera=PerspectiveCamera(fov=46.0, position=(0.0, 0.0, 2.0), quaternion=(0.0, 0.0, 0.0, …"
      ]
     },
     "metadata": {},
     "output_type": "display_data"
    }
   ],
   "source": [
    "#import numpy as np\n",
    "import ipyvolume.pylab as p3\n",
    "p3.figure()\n",
    "p3.figure()\n",
    "#%%time\n",
    "#%matplotlib inline\n",
    "#%matplotlib notebook\n",
    "import matplotlib\n",
    "import numpy as np\n",
    "import matplotlib.pyplot as plt\n",
    "\n",
    "w = 6\n",
    "h = 7\n",
    "d = 140\n",
    "plt.figure(figsize=(w, h), dpi=d)\n",
    "\n",
    "# x Periodicity\n",
    "x = [10, 14, 18, 22, 23.333, 25.178, 26]\n",
    "y = [1.72515, 2.426, 3.12, 3.755, 4.078, 4.363, 4.506]\n",
    "plt.scatter(x, y,  color=\"red\", lw=1, marker='x', label=r\"Macro-physics, $y = \\ln\\ln\\frac{\\lambdabar_{Macro}}{\\lambdabar_e}$\")\n",
    "\n",
    "# + Periodicity\n",
    "x2 = [10, 14, 22, 23.333, 25.178, 30]\n",
    "y2 = [1.72155, 2.428, 3.78446, 4.048, 4.368, 5.253]\n",
    "plt.scatter(x2, y2,  color=\"black\", lw=2, marker='+', label=r\"Micro-physics, $y = \\ln\\ln\\frac{\\lambdabar_e}{\\lambdabar_{micro}}$\")\n",
    "\n",
    "# Green Periodicity\n",
    "x3 = [14, 30, 31.556]\n",
    "y3 = [2.51872, 5.199, 5.4321]\n",
    "plt.scatter(x3, y3,  color=\"green\", lw=2, marker='.', label=r\"Holophysics\")\n",
    "\n",
    "# Slope\n",
    "x4 = [0, 32]\n",
    "y4 = [0, 5.5452]\n",
    "plt.plot(x4, y4, color=\"grey\", lw=1, linestyle=':', label=r\"Slope ln2/4\")\n",
    "\n",
    "# Slope\n",
    "# Atiyah\n",
    "x5 = [-1, 0, 1, 2, 3, 4, 5, 5.3, 5.7, 6, 7, 7.38, 8]\n",
    "#x5 = np.arange[0.3 , 7.38, 0.3]\n",
    "x6 = [5.33, 7.38, 8.]\n",
    "new_tick_location = [2, 6, 10, 14, 18, 22, 26, 30]\n",
    "\n",
    "#offset = -40\n",
    "#new_fixed_axis = par2.get_grid_helper().new_fixed_axis\n",
    "#par2.axis[\"bottom\"] = new_fixed_axis(loc=\"bottom\",\n",
    "#                                     axes=par2,\n",
    "#                                     offset=(0, offset))\n",
    "\n",
    "\n",
    "#y5 = [0, 5.5452]\n",
    "#plt.plot(x4, y4, color=\"grey\", lw=1, linestyle=':', label=r\"Slope ln2/4\")\n",
    "#plt.yscale('log')\n",
    "#plt.loglog(y, y2, y3)\n",
    "plt.text(18, 1.00, r' MicroPhysics', fontsize=18, color=\"black\")\n",
    "plt.text(0, 0., r' STRING=2', fontsize=8, color=\"grey\")\n",
    "plt.text(6, 1., r' Gluons', fontsize=8, color=\"black\")\n",
    "plt.text(10, 1.55, r' Mean Pion', fontsize=8, color=\"black\")\n",
    "plt.text(0, 1.70, r' Bohr Atom Diameter', fontsize=8, color=\"red\")\n",
    "plt.text(-1, 2.35, r' Rydberg Reduced Wavelength/pi', fontsize=8, color=\"red\")\n",
    "plt.text(14, 2.20, r' Half Mean Weak Boson', fontsize=8, color=\"black\")\n",
    "plt.text(14, 2.52, r'Higgs Boson', fontsize=8, color=\"green\")\n",
    "plt.text(1, 3.09, r' Cosmic Wavelength hc/2kT T=2.73 K', fontsize=8, color=\"red\")\n",
    "plt.text(12, 3.78, r' White Dwarf Diameter', fontsize=8, color=\"red\")\n",
    "plt.text(22, 3.6, r' X Boson GUT', fontsize=8, color=\"black\")\n",
    "plt.text(24, 4.00, r' Photon', fontsize=8, color=\"black\")\n",
    "plt.text(11, 4.00, r' Kotov cycle: Stellar System', fontsize=8, color=\"red\")\n",
    "plt.text(26, 4.30, r' Graviton/a', fontsize=8, color=\"black\")\n",
    "plt.text(13, 4.30, r' Milankovitch cycle: Galaxy', fontsize=8, color=\"red\")\n",
    "plt.text(16.7, 4.6, r' Hubble Diameter x pi', fontsize=8, color=\"red\")\n",
    "plt.text(28, 5.00, r'Large Cycle', fontsize=8, color=\"green\")\n",
    "plt.text(28, 5.25, r'HOL', fontsize=8, color=\"black\")\n",
    "plt.text(27, 5.55, r'GrandCosmos', fontsize=8, color=\"green\")\n",
    "plt.text(-1, 3.50, r' MacroPhysics', fontsize=18, color=\"red\")\n",
    "plt.grid(True)\n",
    "plt.legend(loc=2) # upper left corner\n",
    "plt.xlabel('Number of peculiar dimensions in the bosonic string theory: n = 4k+2')\n",
    "plt.ylabel(r'Macro: lnln$\\frac{\\lambdabar_{Macro}}{\\lambdabar_e}$', fontsize=10, color=\"red\")\n",
    "plt.title('Topological Axis')\n",
    "plt.arrow(1,30,0,0, head_width=0.05, head_length=0.1, fc='k', ec='k')\n",
    "ax2 = plt.twinx()\n",
    "#ax2.plot(x, exp(2)**x, lw=1, color=\"m\")\n",
    "#T=arange(len(x))+0.5\n",
    "#ax.set_yticks(T)\n",
    "ax2.set_ylabel(r\"Micro: $\\ln\\ln\\frac{\\lambdabar_e}{\\lambda_{micro}}$\", fontsize=10, color=\"black\")\n",
    "\n",
    "#for label in ax2.get_yticklabels():\n",
    "#    label.set_color(\"red\")\n",
    "ax3 = plt.twiny()\n",
    "#ax3.plot(x4, y4, lw=1, color=\"b\")\n",
    "ax3.set_xlabel(r\"Characteristic lengths of physics and cosmology follow the law: $exp(2^{{n}/{4}})$\", fontsize=6, color=\"blue\")\n",
    "\n",
    "for label in ax2.get_xticklabels():\n",
    "    label.set_color(\"pink\")\n",
    "plt.xticks(x5,x5)\n",
    "ax2.xaxis.set_label_position('top') \n",
    "ax2.yaxis.set_label_position('right') \n",
    "ax2.tick_params(axis='x', colors=\"C1\")\n",
    "ax2.tick_params(axis='y', colors=\"C1\")\n",
    "ax2.set_ylim(10e-5,10e105)\n",
    "ax2.set_yscale('log',basey=10)\n",
    "ax2.spines['right'].set_position(('outward', 40))\n",
    "ax2.spines['bottom'].set_position(('outward', 40))\n",
    "my_xticks = ['-1', '0', '1', '2','$\\pi$', '4', '5', '$16/3$', '$e^{\\pi}/{4}$', '6', '7', '$e^2$', '']\n",
    "plt.xticks(x5, my_xticks, fontsize=6)\n",
    "\n",
    "# Turn on the frame for the twin axis, but then hide all \n",
    "# but the bottom spine\n",
    "ax2.set_frame_on(True)\n",
    "ax2.patch.set_visible(False)\n",
    "#for sp in ax2.spines.itervalues():\n",
    "#    sp.set_visible(False)\n",
    "#ax2.spines[\"bottom\"].set_visible(True)\n",
    "ax2.set_xticks(new_tick_location)\n",
    "ax2.set_xticklabels(new_tick_location)\n",
    "#ax2.axis[\"bottom\"].label.set_color(p1.get_color())\n",
    "#ax2.axis[\"bottom\"].label.set_color(p3.get_color())\n",
    "#ax2.set_xlabel(r\"Modified x-axis: $1/(1+X)$\")\n",
    "#my_x1ticks = ['-1', '0', '1', '2','3', '4', '5', '$16/3$', '$e^{\\pi}/{4}$', '6', '7', '$e^2$','']\n",
    "#plt.xticks(x5, my_x1ticks, fontsize=6)\n",
    "#plt.arrow(-1, -1010, 4, 10e10, head_width=0.06, head_length=0.1, fc='k', ec='k');\n",
    "#par2.axis[\"top\"].toggle(all=False)\n",
    "#par2.set_xlabel(\"Velocity\")\n",
    "#p1, = host.plot([0, 1, 2], [0, 1, 2], label=\"Density\")\n",
    "#p3, = par2.plot([50, 30, 15], [0, 1, 2], label=\"Velocity\")\n",
    "#par2.set_xlim(1, 65)\n",
    "#host.legend()\n",
    "#host.axis[\"bottom\"].label.set_color(p1.get_color())\n",
    "#par2.axis[\"bottom\"].label.set_color(p3.get_color())\n",
    "ax2.grid()\n",
    "ax3.grid()\n",
    "plt.show()\n",
    "p3.ylim(-3,3)\n",
    "p3.show()\n",
    "p3.save('embed.html')"
   ]
  },
  {
   "cell_type": "code",
   "execution_count": 49,
   "metadata": {},
   "outputs": [
    {
     "data": {
      "image/svg+xml": [
       "<svg height=\"400px\" version=\"1.1\" viewBox=\"0 0 1878.877 1990.892\" width=\"400px\" xmlns=\"http://www.w3.org/2000/svg\" xmlns:xlink=\"http://www.w3.org/1999/xlink\">\n",
       "<g id=\"surface1\">\n",
       "<path d=\"M -878.751813 -850.404906 L 878.752094 -850.404906 M -878.751813 -793.709594 L 878.752094 -793.709594 M -878.751813 -737.018188 L 878.752094 -737.018188 M -878.751813 -680.322875 L 878.752094 -680.322875 M -878.751813 -623.631469 L 878.752094 -623.631469 M -878.751813 -566.936156 L 878.752094 -566.936156 M -878.751813 -510.240844 L 878.752094 -510.240844 M -878.751813 -453.549438 L 878.752094 -453.549438 M -878.751813 -396.854125 L 878.752094 -396.854125 M -878.751813 -340.162719 L 878.752094 -340.162719 M -878.751813 -283.467406 L 878.752094 -283.467406 M -878.751813 -226.776 L 878.752094 -226.776 M -878.751813 -170.080688 L 878.752094 -170.080688 M -878.751813 -113.385375 L 878.752094 -113.385375 M -878.751813 -56.693969 L 878.752094 -56.693969 M -878.751813 0.00134375 L 878.752094 0.00134375 M -878.751813 56.69275 L 878.752094 56.69275 M -878.751813 113.388062 L 878.752094 113.388062 M -878.751813 170.079469 L 878.752094 170.079469 M -878.751813 226.774781 L 878.752094 226.774781 M -878.751813 283.466187 L 878.752094 283.466187 M -878.751813 340.1615 L 878.752094 340.1615 M -878.751813 396.856812 L 878.752094 396.856812 M -878.751813 453.548219 L 878.752094 453.548219 M -878.751813 510.243531 L 878.752094 510.243531 M -878.751813 566.934937 L 878.752094 566.934937 M -878.751813 623.63025 L 878.752094 623.63025 M -878.751813 680.321656 L 878.752094 680.321656 M -878.751813 737.016969 L 878.752094 737.016969 M -878.751813 793.712281 L 878.752094 793.712281 M -878.751813 850.403687 L 878.752094 850.403687 M -850.404156 -878.752563 L -850.404156 878.751344 M -793.708844 -878.752563 L -793.708844 878.751344 M -737.017438 -878.752563 L -737.017438 878.751344 M -680.322125 -878.752563 L -680.322125 878.751344 M -623.630719 -878.752563 L -623.630719 878.751344 M -566.935406 -878.752563 L -566.935406 878.751344 M -510.244 -878.752563 L -510.244 878.751344 M -453.548688 -878.752563 L -453.548688 878.751344 M -396.857281 -878.752563 L -396.857281 878.751344 M -340.161969 -878.752563 L -340.161969 878.751344 M -283.466656 -878.752563 L -283.466656 878.751344 M -226.77525 -878.752563 L -226.77525 878.751344 M -170.079938 -878.752563 L -170.079938 878.751344 M -113.388531 -878.752563 L -113.388531 878.751344 M -56.693219 -878.752563 L -56.693219 878.751344 M -0.0018125 -878.752563 L -0.0018125 878.751344 M 56.6935 -878.752563 L 56.6935 878.751344 M 113.388812 -878.752563 L 113.388812 878.751344 M 170.080219 -878.752563 L 170.080219 878.751344 M 226.775531 -878.752563 L 226.775531 878.751344 M 283.466937 -878.752563 L 283.466937 878.751344 M 340.16225 -878.752563 L 340.16225 878.751344 M 396.853656 -878.752563 L 396.853656 878.751344 M 453.548969 -878.752563 L 453.548969 878.751344 M 510.244281 -878.752563 L 510.244281 878.751344 M 566.935687 -878.752563 L 566.935687 878.751344 M 623.631 -878.752563 L 623.631 878.751344 M 680.322406 -878.752563 L 680.322406 878.751344 M 737.017719 -878.752563 L 737.017719 878.751344 M 793.709125 -878.752563 L 793.709125 878.751344 M 850.404437 -878.752563 L 850.404437 878.751344 \" style=\"fill:none;stroke-width:0.19925;stroke-linecap:butt;stroke-linejoin:miter;stroke:rgb(50%,50%,50%);stroke-opacity:1;stroke-miterlimit:10;\" transform=\"matrix(1,0,0,-1,970.619,967.099)\"/>\n",
       "<path d=\"M -878.751813 -878.752563 L -878.751813 878.294312 \" style=\"fill:none;stroke-width:0.3985;stroke-linecap:butt;stroke-linejoin:miter;stroke:rgb(0%,0%,0%);stroke-opacity:1;stroke-miterlimit:10;\" transform=\"matrix(1,0,0,-1,970.619,967.099)\"/>\n",
       "<path d=\"M -1.19382 1.594463 C -1.096164 0.996806 0.0014925 0.0983688 0.298367 0.0007125 C 0.0014925 -0.10085 -1.096164 -0.995381 -1.19382 -1.593037 \" style=\"fill:none;stroke-width:0.31879;stroke-linecap:round;stroke-linejoin:round;stroke:rgb(0%,0%,0%);stroke-opacity:1;stroke-miterlimit:10;\" transform=\"matrix(0,-1,-1,0,91.8679,88.80618)\"/>\n",
       "<path d=\"M 878.752094 -878.752563 L 878.752094 878.294312 \" style=\"fill:none;stroke-width:0.3985;stroke-linecap:butt;stroke-linejoin:miter;stroke:rgb(0%,0%,0%);stroke-opacity:1;stroke-miterlimit:10;\" transform=\"matrix(1,0,0,-1,970.619,967.099)\"/>\n",
       "<path d=\"M -1.19382 1.592756 C -1.096164 0.9951 0.0014925 0.100569 0.298367 -0.00099375 C 0.0014925 -0.09865 -1.096164 -0.997087 -1.19382 -1.594744 \" style=\"fill:none;stroke-width:0.31879;stroke-linecap:round;stroke-linejoin:round;stroke:rgb(0%,0%,0%);stroke-opacity:1;stroke-miterlimit:10;\" transform=\"matrix(0,-1,-1,0,1849.3701,88.80618)\"/>\n",
       "<path d=\"M -878.751813 -878.752563 L 900.970844 -878.752563 \" style=\"fill:none;stroke-width:0.3985;stroke-linecap:butt;stroke-linejoin:miter;stroke:rgb(0%,0%,0%);stroke-opacity:1;stroke-miterlimit:10;\" transform=\"matrix(1,0,0,-1,970.619,967.099)\"/>\n",
       "<path d=\"M -1.194809 1.592287 C -1.097152 0.994631 0.00050375 0.1001 0.297379 -0.0014625 C 0.00050375 -0.0991188 -1.097152 -0.997556 -1.194809 -1.595213 \" style=\"fill:none;stroke-width:0.31879;stroke-linecap:round;stroke-linejoin:round;stroke:rgb(0%,0%,0%);stroke-opacity:1;stroke-miterlimit:10;\" transform=\"matrix(1,0,0,-1,1871.58934,1845.8501)\"/>\n",
       "<path d=\"M -878.751813 -963.791625 L 900.970844 -963.791625 \" style=\"fill:none;stroke-width:0.3985;stroke-linecap:butt;stroke-linejoin:miter;stroke:rgb(0%,0%,0%);stroke-opacity:1;stroke-miterlimit:10;\" transform=\"matrix(1,0,0,-1,970.619,967.099)\"/>\n",
       "<path d=\"M -1.194809 1.593655 C -1.097152 0.995999 0.00050375 0.101467 0.297379 -0.000095 C 0.00050375 -0.0977513 -1.097152 -0.996189 -1.194809 -1.593845 \" style=\"fill:none;stroke-width:0.31879;stroke-linecap:round;stroke-linejoin:round;stroke:rgb(0%,0%,0%);stroke-opacity:1;stroke-miterlimit:10;\" transform=\"matrix(1,0,0,-1,1871.58934,1930.89053)\"/>\n",
       "<path d=\"M -963.790875 -878.752563 L -963.790875 963.333375 \" style=\"fill:none;stroke-width:0.3985;stroke-linecap:butt;stroke-linejoin:miter;stroke:rgb(0%,0%,0%);stroke-opacity:1;stroke-miterlimit:10;\" transform=\"matrix(1,0,0,-1,970.619,967.099)\"/>\n",
       "<path d=\"M -1.195188 1.593095 C -1.097531 0.995439 0.000125 0.100907 0.297 -0.000655 C 0.000125 -0.0983113 -1.097531 -0.996749 -1.195188 -1.594405 \" style=\"fill:none;stroke-width:0.31879;stroke-linecap:round;stroke-linejoin:round;stroke:rgb(0%,0%,0%);stroke-opacity:1;stroke-miterlimit:10;\" transform=\"matrix(0,-1,-1,0,6.82747,3.76575)\"/>\n",
       "<path d=\"M -963.790875 -79.36975 L -79.372906 -79.36975 \" style=\"fill:none;stroke-width:0.3985;stroke-linecap:butt;stroke-linejoin:miter;stroke:rgb(0%,0%,100%);stroke-opacity:1;stroke-dasharray:2.98883,2.98883;stroke-miterlimit:10;\" transform=\"matrix(1,0,0,-1,970.619,967.099)\"/>\n",
       "<path d=\"M -963.790875 0.00134375 L -0.0018125 0.00134375 \" style=\"fill:none;stroke-width:0.3985;stroke-linecap:butt;stroke-linejoin:miter;stroke:rgb(0%,100%,0%);stroke-opacity:1;stroke-dasharray:2.98883,2.98883;stroke-miterlimit:10;\" transform=\"matrix(1,0,0,-1,970.619,967.099)\"/>\n",
       "<path d=\"M -963.790875 878.751344 L 878.752094 878.751344 \" style=\"fill:none;stroke-width:0.3985;stroke-linecap:butt;stroke-linejoin:miter;stroke:rgb(100%,0%,0%);stroke-opacity:1;stroke-dasharray:2.98883,2.98883;stroke-miterlimit:10;\" transform=\"matrix(1,0,0,-1,970.619,967.099)\"/>\n",
       "<path d=\"M -793.708844 -907.096313 L -793.708844 -793.709594 \" style=\"fill:none;stroke-width:0.3985;stroke-linecap:butt;stroke-linejoin:miter;stroke:rgb(0%,0%,100%);stroke-opacity:1;stroke-dasharray:2.98883,2.98883;stroke-miterlimit:10;\" transform=\"matrix(1,0,0,-1,970.619,967.099)\"/>\n",
       "<path d=\"M -566.935406 -907.096313 L -566.935406 -566.936156 \" style=\"fill:none;stroke-width:0.3985;stroke-linecap:butt;stroke-linejoin:miter;stroke:rgb(0%,0%,100%);stroke-opacity:1;stroke-dasharray:2.98883,2.98883;stroke-miterlimit:10;\" transform=\"matrix(1,0,0,-1,970.619,967.099)\"/>\n",
       "<path d=\"M -340.161969 -907.096313 L -340.161969 -340.162719 \" style=\"fill:none;stroke-width:0.3985;stroke-linecap:butt;stroke-linejoin:miter;stroke:rgb(0%,0%,100%);stroke-opacity:1;stroke-dasharray:2.98883,2.98883;stroke-miterlimit:10;\" transform=\"matrix(1,0,0,-1,970.619,967.099)\"/>\n",
       "<path d=\"M -283.466656 -907.096313 L -283.466656 -283.467406 \" style=\"fill:none;stroke-width:0.3985;stroke-linecap:butt;stroke-linejoin:miter;stroke:rgb(0%,0%,100%);stroke-opacity:1;stroke-dasharray:2.98883,2.98883;stroke-miterlimit:10;\" transform=\"matrix(1,0,0,-1,970.619,967.099)\"/>\n",
       "<path d=\"M -113.388531 -907.096313 L -113.388531 -113.385375 \" style=\"fill:none;stroke-width:0.3985;stroke-linecap:butt;stroke-linejoin:miter;stroke:rgb(0%,0%,100%);stroke-opacity:1;stroke-dasharray:2.98883,2.98883;stroke-miterlimit:10;\" transform=\"matrix(1,0,0,-1,970.619,967.099)\"/>\n",
       "<path d=\"M -85.040875 -907.096313 L -85.040875 -85.041625 \" style=\"fill:none;stroke-width:0.3985;stroke-linecap:butt;stroke-linejoin:miter;stroke:rgb(0%,0%,100%);stroke-opacity:1;stroke-dasharray:2.98883,2.98883;stroke-miterlimit:10;\" transform=\"matrix(1,0,0,-1,970.619,967.099)\"/>\n",
       "<path d=\"M -0.0018125 -907.096313 L -0.0018125 0.00134375 \" style=\"fill:none;stroke-width:0.3985;stroke-linecap:butt;stroke-linejoin:miter;stroke:rgb(0%,0%,100%);stroke-opacity:1;stroke-dasharray:2.98883,2.98883;stroke-miterlimit:10;\" transform=\"matrix(1,0,0,-1,970.619,967.099)\"/>\n",
       "<path d=\"M 116.220844 -907.096313 L 116.220844 116.224 \" style=\"fill:none;stroke-width:0.3985;stroke-linecap:butt;stroke-linejoin:miter;stroke:rgb(0%,0%,100%);stroke-opacity:1;stroke-dasharray:2.98883,2.98883;stroke-miterlimit:10;\" transform=\"matrix(1,0,0,-1,970.619,967.099)\"/>\n",
       "<path d=\"M 342.998187 -907.096313 L 342.998187 342.997437 \" style=\"fill:none;stroke-width:0.3985;stroke-linecap:butt;stroke-linejoin:miter;stroke:rgb(0%,0%,100%);stroke-opacity:1;stroke-dasharray:2.98883,2.98883;stroke-miterlimit:10;\" transform=\"matrix(1,0,0,-1,970.619,967.099)\"/>\n",
       "<path d=\"M 453.548969 -907.096313 L 453.548969 453.548219 \" style=\"fill:none;stroke-width:0.3985;stroke-linecap:butt;stroke-linejoin:miter;stroke:rgb(0%,0%,100%);stroke-opacity:1;stroke-dasharray:2.98883,2.98883;stroke-miterlimit:10;\" transform=\"matrix(1,0,0,-1,970.619,967.099)\"/>\n",
       "<path d=\"M 517.330219 -907.096313 L 517.330219 517.329469 \" style=\"fill:none;stroke-width:0.3985;stroke-linecap:butt;stroke-linejoin:miter;stroke:rgb(0%,0%,100%);stroke-opacity:1;stroke-dasharray:2.98883,2.98883;stroke-miterlimit:10;\" transform=\"matrix(1,0,0,-1,970.619,967.099)\"/>\n",
       "<path d=\"M 566.935687 -907.096313 L 566.935687 566.934937 \" style=\"fill:none;stroke-width:0.3985;stroke-linecap:butt;stroke-linejoin:miter;stroke:rgb(0%,0%,100%);stroke-opacity:1;stroke-dasharray:2.98883,2.98883;stroke-miterlimit:10;\" transform=\"matrix(1,0,0,-1,970.619,967.099)\"/>\n",
       "<path d=\"M 793.709125 -907.096313 L 793.709125 793.712281 \" style=\"fill:none;stroke-width:0.3985;stroke-linecap:butt;stroke-linejoin:miter;stroke:rgb(0%,0%,100%);stroke-opacity:1;stroke-dasharray:2.98883,2.98883;stroke-miterlimit:10;\" transform=\"matrix(1,0,0,-1,970.619,967.099)\"/>\n",
       "<path d=\"M 822.056781 -907.096313 L 822.056781 822.056031 \" style=\"fill:none;stroke-width:0.3985;stroke-linecap:butt;stroke-linejoin:miter;stroke:rgb(0%,0%,100%);stroke-opacity:1;stroke-dasharray:2.98883,2.98883;stroke-miterlimit:10;\" transform=\"matrix(1,0,0,-1,970.619,967.099)\"/>\n",
       "<path d=\"M 878.752094 -1020.486938 L 878.752094 878.751344 \" style=\"fill:none;stroke-width:0.3985;stroke-linecap:butt;stroke-linejoin:miter;stroke:rgb(100%,0%,0%);stroke-opacity:1;stroke-dasharray:2.98883,2.98883;stroke-miterlimit:10;\" transform=\"matrix(1,0,0,-1,970.619,967.099)\"/>\n",
       "</g>\n",
       "</svg>"
      ]
     },
     "metadata": {
      "isolated": "true"
     },
     "output_type": "display_data"
    }
   ],
   "source": [
    "%%tikz -s 400,400 -sc 1. -f svg\n",
    "\\draw [style=help lines, step=2]                (-31,-31)    grid        (+31,+31);\n",
    "%%%\\draw (-31.0,-31.0){A}\n",
    "\n",
    " \n",
    "\\draw [->] (-31.0,-31.0) node[left]{} -- (-31.,31.) node[right]{}; % scale Y\n",
    "\\draw [->] (31.0,-31.0) node[left]{} -- (31.,31.) node[right]{}; % \n",
    "\\draw [->] (-31.0,-31.0) node[left]{} -- (31.8,-31.0) node[right]{}; % scale d\n",
    "\\draw [->] (-31.0,-34.) node[left]{} -- (31.8,-34.) node[right]{};   % scale k\n",
    "\\draw [->] (-34.0,-31.) node[left]{} -- (-34.,34.) node[right]{};   % scale Y'\n",
    "\n",
    "\\draw [-,color=blue,dashed] (-34.0,-2.8) node[left]{} -- (-2.8,-2.8) node[right]{};   % Scalar Boson horizontal line\n",
    "\\draw [-,color=green,dashed] (-34.0,0.) node[left]{} -- (0.,0.) node[right]{};   % bicodon horizontal line\n",
    "\\draw [-,color=red,dashed] (-34.0,31.) node[left]{} -- (31.,31.) node[right]{};   % Cosmos horizontal line\n",
    "\n",
    "\\draw [-,color=blue,dashed] (-28.0,-32.) node[left]{} -- (-28.,-28.) node[right]{};   % String vertical line\n",
    "\\draw [-,color=blue,dashed] (-20.0,-32.) node[left]{} -- (-20.,-20.) node[right]{};   % Gluon vertical line\n",
    "\\draw [-,color=blue,dashed] (-12.0,-32.) node[left]{} -- (-12.,-12.) node[right]{};   % ATOM DIAMETER vertical line\n",
    "\\draw [-,color=blue,dashed] (-10.0,-32.) node[left]{} -- (-10.,-10.) node[right]{};   % Kaon vertical line\n",
    "\\draw [-,color=blue,dashed] (-4.0,-32.) node[left]{} -- (-4.,-4.) node[right]{};   % Half Mean Weak Boson vertical line\n",
    "\\draw [-,color=blue,dashed] (-3.0,-32.) node[left]{} -- (-3.,-3.) node[right]{};   % Scalar Boson vertical line\n",
    "\\draw [-,color=blue,dashed] (0.,-32.) node[left]{} -- (0.,0.) node[right]{};   % Bicodon vertical line\n",
    "\\draw [-,color=blue,dashed] (4.1,-32.) node[left]{} -- (4.1,4.1) node[right]{};   % Thermal Photon vertical line\n",
    "\\draw [-,color=blue,dashed] (12.1,-32.) node[left]{} -- (12.1,12.1) node[right]{};   % Boson X GUT vertical line\n",
    "\\draw [-,color=blue,dashed] (16.,-32.) node[left]{} -- (16.,16.) node[right]{};   % Photon vertical line\n",
    "\\draw [-,color=blue,dashed] (18.25,-32.) node[left]{} -- (18.25,18.25) node[right]{};   % Galaxy group vertical line\n",
    "\\draw [-,color=blue,dashed] (20.0,-32.) node[left]{} -- (20.0,20.) node[right]{};   % Gravitonde vertical line\n",
    "\\draw [-,color=blue,dashed] (28.0,-32.) node[left]{} -- (28.0,28.0) node[right]{};   % Super Period vertical line\n",
    "\\draw [-,color=blue,dashed] (29.,-32.) node[left]{} -- (29.,29.0) node[right]{};   % Topon vertical line\n",
    "\\draw [-,color=red,dashed] (31.0,-36.) node[left]{} -- (31.,31.) node[right]{};   % Cosmos vertical line\n",
    "\n",
    "\n",
    "\n",
    "\n",
    "\n",
    "\n"
   ]
  },
  {
   "cell_type": "code",
   "execution_count": 69,
   "metadata": {},
   "outputs": [
    {
     "data": {
      "image/svg+xml": [
       "<svg height=\"240px\" version=\"1.1\" viewBox=\"0 0 238.329 187.667\" width=\"400px\" xmlns=\"http://www.w3.org/2000/svg\" xmlns:xlink=\"http://www.w3.org/1999/xlink\">\n",
       "<defs>\n",
       "<g>\n",
       "<symbol id=\"glyph0-0\" overflow=\"visible\">\n",
       "<path d=\"\" style=\"stroke:none;\"/>\n",
       "</symbol>\n",
       "<symbol id=\"glyph0-1\" overflow=\"visible\">\n",
       "<path d=\"M 4.578125 -3.1875 C 4.578125 -3.984375 4.53125 -4.78125 4.1875 -5.515625 C 3.734375 -6.484375 2.90625 -6.640625 2.5 -6.640625 C 1.890625 -6.640625 1.171875 -6.375 0.75 -5.453125 C 0.4375 -4.765625 0.390625 -3.984375 0.390625 -3.1875 C 0.390625 -2.4375 0.421875 -1.546875 0.84375 -0.78125 C 1.265625 0.015625 2 0.21875 2.484375 0.21875 C 3.015625 0.21875 3.78125 0.015625 4.21875 -0.9375 C 4.53125 -1.625 4.578125 -2.40625 4.578125 -3.1875 Z M 2.484375 0 C 2.09375 0 1.5 -0.25 1.328125 -1.203125 C 1.21875 -1.796875 1.21875 -2.71875 1.21875 -3.3125 C 1.21875 -3.953125 1.21875 -4.609375 1.296875 -5.140625 C 1.484375 -6.328125 2.234375 -6.421875 2.484375 -6.421875 C 2.8125 -6.421875 3.46875 -6.234375 3.65625 -5.25 C 3.765625 -4.6875 3.765625 -3.9375 3.765625 -3.3125 C 3.765625 -2.5625 3.765625 -1.890625 3.65625 -1.25 C 3.5 -0.296875 2.9375 0 2.484375 0 Z M 2.484375 0 \" style=\"stroke:none;\"/>\n",
       "</symbol>\n",
       "<symbol id=\"glyph0-2\" overflow=\"visible\">\n",
       "<path d=\"M 4.46875 -2 C 4.46875 -3.1875 3.65625 -4.1875 2.578125 -4.1875 C 2.109375 -4.1875 1.671875 -4.03125 1.3125 -3.671875 L 1.3125 -5.625 C 1.515625 -5.5625 1.84375 -5.5 2.15625 -5.5 C 3.390625 -5.5 4.09375 -6.40625 4.09375 -6.53125 C 4.09375 -6.59375 4.0625 -6.640625 3.984375 -6.640625 C 3.984375 -6.640625 3.953125 -6.640625 3.90625 -6.609375 C 3.703125 -6.515625 3.21875 -6.3125 2.546875 -6.3125 C 2.15625 -6.3125 1.6875 -6.390625 1.21875 -6.59375 C 1.140625 -6.625 1.125 -6.625 1.109375 -6.625 C 1 -6.625 1 -6.546875 1 -6.390625 L 1 -3.4375 C 1 -3.265625 1 -3.1875 1.140625 -3.1875 C 1.21875 -3.1875 1.234375 -3.203125 1.28125 -3.265625 C 1.390625 -3.421875 1.75 -3.96875 2.5625 -3.96875 C 3.078125 -3.96875 3.328125 -3.515625 3.40625 -3.328125 C 3.5625 -2.953125 3.59375 -2.578125 3.59375 -2.078125 C 3.59375 -1.71875 3.59375 -1.125 3.34375 -0.703125 C 3.109375 -0.3125 2.734375 -0.0625 2.28125 -0.0625 C 1.5625 -0.0625 0.984375 -0.59375 0.8125 -1.171875 C 0.84375 -1.171875 0.875 -1.15625 0.984375 -1.15625 C 1.3125 -1.15625 1.484375 -1.40625 1.484375 -1.640625 C 1.484375 -1.890625 1.3125 -2.140625 0.984375 -2.140625 C 0.84375 -2.140625 0.5 -2.0625 0.5 -1.609375 C 0.5 -0.75 1.1875 0.21875 2.296875 0.21875 C 3.453125 0.21875 4.46875 -0.734375 4.46875 -2 Z M 4.46875 -2 \" style=\"stroke:none;\"/>\n",
       "</symbol>\n",
       "<symbol id=\"glyph0-3\" overflow=\"visible\">\n",
       "<path d=\"M 2.9375 -6.375 C 2.9375 -6.625 2.9375 -6.640625 2.703125 -6.640625 C 2.078125 -6 1.203125 -6 0.890625 -6 L 0.890625 -5.6875 C 1.09375 -5.6875 1.671875 -5.6875 2.1875 -5.953125 L 2.1875 -0.78125 C 2.1875 -0.421875 2.15625 -0.3125 1.265625 -0.3125 L 0.953125 -0.3125 L 0.953125 0 C 1.296875 -0.03125 2.15625 -0.03125 2.5625 -0.03125 C 2.953125 -0.03125 3.828125 -0.03125 4.171875 0 L 4.171875 -0.3125 L 3.859375 -0.3125 C 2.953125 -0.3125 2.9375 -0.421875 2.9375 -0.78125 Z M 2.9375 -6.375 \" style=\"stroke:none;\"/>\n",
       "</symbol>\n",
       "<symbol id=\"glyph0-4\" overflow=\"visible\">\n",
       "<path d=\"M 1.265625 -0.765625 L 2.328125 -1.796875 C 3.875 -3.171875 4.46875 -3.703125 4.46875 -4.703125 C 4.46875 -5.84375 3.578125 -6.640625 2.359375 -6.640625 C 1.234375 -6.640625 0.5 -5.71875 0.5 -4.828125 C 0.5 -4.28125 1 -4.28125 1.03125 -4.28125 C 1.203125 -4.28125 1.546875 -4.390625 1.546875 -4.8125 C 1.546875 -5.0625 1.359375 -5.328125 1.015625 -5.328125 C 0.9375 -5.328125 0.921875 -5.328125 0.890625 -5.3125 C 1.109375 -5.96875 1.65625 -6.328125 2.234375 -6.328125 C 3.140625 -6.328125 3.5625 -5.515625 3.5625 -4.703125 C 3.5625 -3.90625 3.078125 -3.125 2.515625 -2.5 L 0.609375 -0.375 C 0.5 -0.265625 0.5 -0.234375 0.5 0 L 4.203125 0 L 4.46875 -1.734375 L 4.234375 -1.734375 C 4.171875 -1.4375 4.109375 -1 4 -0.84375 C 3.9375 -0.765625 3.28125 -0.765625 3.0625 -0.765625 Z M 1.265625 -0.765625 \" style=\"stroke:none;\"/>\n",
       "</symbol>\n",
       "<symbol id=\"glyph0-5\" overflow=\"visible\">\n",
       "<path d=\"M 2.890625 -3.515625 C 3.703125 -3.78125 4.28125 -4.46875 4.28125 -5.265625 C 4.28125 -6.078125 3.40625 -6.640625 2.453125 -6.640625 C 1.453125 -6.640625 0.6875 -6.046875 0.6875 -5.28125 C 0.6875 -4.953125 0.90625 -4.765625 1.203125 -4.765625 C 1.5 -4.765625 1.703125 -4.984375 1.703125 -5.28125 C 1.703125 -5.765625 1.234375 -5.765625 1.09375 -5.765625 C 1.390625 -6.265625 2.046875 -6.390625 2.40625 -6.390625 C 2.828125 -6.390625 3.375 -6.171875 3.375 -5.28125 C 3.375 -5.15625 3.34375 -4.578125 3.09375 -4.140625 C 2.796875 -3.65625 2.453125 -3.625 2.203125 -3.625 C 2.125 -3.609375 1.890625 -3.59375 1.8125 -3.59375 C 1.734375 -3.578125 1.671875 -3.5625 1.671875 -3.46875 C 1.671875 -3.359375 1.734375 -3.359375 1.90625 -3.359375 L 2.34375 -3.359375 C 3.15625 -3.359375 3.53125 -2.6875 3.53125 -1.703125 C 3.53125 -0.34375 2.84375 -0.0625 2.40625 -0.0625 C 1.96875 -0.0625 1.21875 -0.234375 0.875 -0.8125 C 1.21875 -0.765625 1.53125 -0.984375 1.53125 -1.359375 C 1.53125 -1.71875 1.265625 -1.921875 0.984375 -1.921875 C 0.734375 -1.921875 0.421875 -1.78125 0.421875 -1.34375 C 0.421875 -0.4375 1.34375 0.21875 2.4375 0.21875 C 3.65625 0.21875 4.5625 -0.6875 4.5625 -1.703125 C 4.5625 -2.515625 3.921875 -3.296875 2.890625 -3.515625 Z M 2.890625 -3.515625 \" style=\"stroke:none;\"/>\n",
       "</symbol>\n",
       "<symbol id=\"glyph1-0\" overflow=\"visible\">\n",
       "<path d=\"\" style=\"stroke:none;\"/>\n",
       "</symbol>\n",
       "<symbol id=\"glyph1-1\" overflow=\"visible\">\n",
       "<path d=\"M 6.5625 -2.296875 C 6.734375 -2.296875 6.921875 -2.296875 6.921875 -2.5 C 6.921875 -2.6875 6.734375 -2.6875 6.5625 -2.6875 L 1.171875 -2.6875 C 1 -2.6875 0.828125 -2.6875 0.828125 -2.5 C 0.828125 -2.296875 1 -2.296875 1.171875 -2.296875 Z M 6.5625 -2.296875 \" style=\"stroke:none;\"/>\n",
       "</symbol>\n",
       "<symbol id=\"glyph2-0\" overflow=\"visible\">\n",
       "<path d=\"\" style=\"stroke:none;\"/>\n",
       "</symbol>\n",
       "<symbol id=\"glyph2-1\" overflow=\"visible\">\n",
       "<path d=\"M 3.328125 -3.015625 C 3.390625 -3.265625 3.625 -4.1875 4.3125 -4.1875 C 4.359375 -4.1875 4.609375 -4.1875 4.8125 -4.0625 C 4.53125 -4 4.34375 -3.765625 4.34375 -3.515625 C 4.34375 -3.359375 4.453125 -3.171875 4.71875 -3.171875 C 4.9375 -3.171875 5.25 -3.34375 5.25 -3.75 C 5.25 -4.265625 4.671875 -4.40625 4.328125 -4.40625 C 3.75 -4.40625 3.40625 -3.875 3.28125 -3.65625 C 3.03125 -4.3125 2.5 -4.40625 2.203125 -4.40625 C 1.171875 -4.40625 0.59375 -3.125 0.59375 -2.875 C 0.59375 -2.765625 0.703125 -2.765625 0.71875 -2.765625 C 0.796875 -2.765625 0.828125 -2.796875 0.84375 -2.875 C 1.1875 -3.9375 1.84375 -4.1875 2.1875 -4.1875 C 2.375 -4.1875 2.71875 -4.09375 2.71875 -3.515625 C 2.71875 -3.203125 2.546875 -2.546875 2.1875 -1.140625 C 2.03125 -0.53125 1.671875 -0.109375 1.234375 -0.109375 C 1.171875 -0.109375 0.953125 -0.109375 0.734375 -0.234375 C 0.984375 -0.296875 1.203125 -0.5 1.203125 -0.78125 C 1.203125 -1.046875 0.984375 -1.125 0.84375 -1.125 C 0.53125 -1.125 0.296875 -0.875 0.296875 -0.546875 C 0.296875 -0.09375 0.78125 0.109375 1.21875 0.109375 C 1.890625 0.109375 2.25 -0.59375 2.265625 -0.640625 C 2.390625 -0.28125 2.75 0.109375 3.34375 0.109375 C 4.375 0.109375 4.9375 -1.171875 4.9375 -1.421875 C 4.9375 -1.53125 4.859375 -1.53125 4.828125 -1.53125 C 4.734375 -1.53125 4.71875 -1.484375 4.6875 -1.421875 C 4.359375 -0.34375 3.6875 -0.109375 3.375 -0.109375 C 2.984375 -0.109375 2.828125 -0.421875 2.828125 -0.765625 C 2.828125 -0.984375 2.875 -1.203125 2.984375 -1.640625 Z M 3.328125 -3.015625 \" style=\"stroke:none;\"/>\n",
       "</symbol>\n",
       "<symbol id=\"glyph3-0\" overflow=\"visible\">\n",
       "<path d=\"\" style=\"stroke:none;\"/>\n",
       "</symbol>\n",
       "<symbol id=\"glyph3-1\" overflow=\"visible\">\n",
       "<path d=\"M -3.984375 -3.65625 L -3.984375 -4.515625 C -3.984375 -4.71875 -3.984375 -4.8125 -4.1875 -4.8125 C -4.296875 -4.8125 -4.296875 -4.71875 -4.296875 -4.546875 L -4.296875 -3.71875 L -5.4375 -3.921875 C -5.640625 -3.96875 -6.34375 -4.109375 -6.46875 -4.171875 C -6.65625 -4.25 -6.8125 -4.421875 -6.8125 -4.640625 C -6.8125 -4.671875 -6.8125 -4.9375 -6.625 -5.125 C -6.59375 -4.6875 -6.234375 -4.578125 -6.09375 -4.578125 C -5.859375 -4.578125 -5.734375 -4.765625 -5.734375 -4.953125 C -5.734375 -5.21875 -5.96875 -5.5 -6.34375 -5.5 C -6.796875 -5.5 -7.03125 -5.046875 -7.03125 -4.640625 C -7.03125 -4.296875 -6.84375 -3.671875 -5.859375 -3.375 C -5.65625 -3.3125 -5.546875 -3.28125 -4.296875 -3.046875 L -4.296875 -2.359375 C -4.296875 -2.15625 -4.296875 -2.046875 -4.109375 -2.046875 C -3.984375 -2.046875 -3.984375 -2.140625 -3.984375 -2.328125 L -3.984375 -2.984375 L -0.046875 -2.25 C 0.921875 -2.0625 1.828125 -1.890625 1.828125 -1.375 C 1.828125 -1.328125 1.828125 -1.09375 1.640625 -0.890625 C 1.609375 -1.359375 1.25 -1.453125 1.109375 -1.453125 C 0.875 -1.453125 0.75 -1.265625 0.75 -1.078125 C 0.75 -0.8125 0.984375 -0.53125 1.359375 -0.53125 C 1.796875 -0.53125 2.046875 -0.96875 2.046875 -1.375 C 2.046875 -1.921875 1.453125 -2.328125 1.078125 -2.5 C 0.453125 -2.828125 -0.75 -3.046875 -0.828125 -3.0625 Z M -3.984375 -3.65625 \" style=\"stroke:none;\"/>\n",
       "</symbol>\n",
       "<symbol id=\"glyph3-2\" overflow=\"visible\">\n",
       "<path d=\"M -3.015625 -3.328125 C -3.265625 -3.390625 -4.1875 -3.625 -4.1875 -4.3125 C -4.1875 -4.359375 -4.1875 -4.609375 -4.0625 -4.8125 C -4 -4.53125 -3.765625 -4.34375 -3.515625 -4.34375 C -3.359375 -4.34375 -3.171875 -4.453125 -3.171875 -4.71875 C -3.171875 -4.9375 -3.34375 -5.25 -3.75 -5.25 C -4.265625 -5.25 -4.40625 -4.671875 -4.40625 -4.328125 C -4.40625 -3.75 -3.875 -3.40625 -3.65625 -3.28125 C -4.3125 -3.03125 -4.40625 -2.5 -4.40625 -2.203125 C -4.40625 -1.171875 -3.125 -0.59375 -2.875 -0.59375 C -2.765625 -0.59375 -2.765625 -0.703125 -2.765625 -0.71875 C -2.765625 -0.796875 -2.796875 -0.828125 -2.875 -0.84375 C -3.9375 -1.1875 -4.1875 -1.84375 -4.1875 -2.1875 C -4.1875 -2.375 -4.09375 -2.71875 -3.515625 -2.71875 C -3.203125 -2.71875 -2.546875 -2.546875 -1.140625 -2.1875 C -0.53125 -2.03125 -0.109375 -1.671875 -0.109375 -1.234375 C -0.109375 -1.171875 -0.109375 -0.953125 -0.234375 -0.734375 C -0.296875 -0.984375 -0.5 -1.203125 -0.78125 -1.203125 C -1.046875 -1.203125 -1.125 -0.984375 -1.125 -0.84375 C -1.125 -0.53125 -0.875 -0.296875 -0.546875 -0.296875 C -0.09375 -0.296875 0.109375 -0.78125 0.109375 -1.21875 C 0.109375 -1.890625 -0.59375 -2.25 -0.640625 -2.265625 C -0.28125 -2.390625 0.109375 -2.75 0.109375 -3.34375 C 0.109375 -4.375 -1.171875 -4.9375 -1.421875 -4.9375 C -1.53125 -4.9375 -1.53125 -4.859375 -1.53125 -4.828125 C -1.53125 -4.734375 -1.484375 -4.71875 -1.421875 -4.6875 C -0.34375 -4.359375 -0.109375 -3.6875 -0.109375 -3.375 C -0.109375 -2.984375 -0.421875 -2.828125 -0.765625 -2.828125 C -0.984375 -2.828125 -1.203125 -2.875 -1.640625 -2.984375 Z M -3.015625 -3.328125 \" style=\"stroke:none;\"/>\n",
       "</symbol>\n",
       "<symbol id=\"glyph4-0\" overflow=\"visible\">\n",
       "<path d=\"\" style=\"stroke:none;\"/>\n",
       "</symbol>\n",
       "<symbol id=\"glyph4-1\" overflow=\"visible\">\n",
       "<path d=\"M 2.390625 -3.296875 C 2.359375 -3.296875 2.34375 -3.296875 2.171875 -3.125 C 0.921875 -1.890625 -0.96875 -1.5625 -2.5 -1.5625 C -4.234375 -1.5625 -5.96875 -1.9375 -7.203125 -3.171875 C -7.328125 -3.296875 -7.34375 -3.296875 -7.375 -3.296875 C -7.453125 -3.296875 -7.484375 -3.265625 -7.484375 -3.203125 C -7.484375 -3.09375 -6.796875 -2.203125 -5.53125 -1.609375 C -4.4375 -1.109375 -3.328125 -0.984375 -2.5 -0.984375 C -1.71875 -0.984375 -0.515625 -1.09375 0.625 -1.640625 C 1.84375 -2.25 2.5 -3.09375 2.5 -3.203125 C 2.5 -3.265625 2.46875 -3.296875 2.390625 -3.296875 Z M 2.390625 -3.296875 \" style=\"stroke:none;\"/>\n",
       "</symbol>\n",
       "<symbol id=\"glyph4-2\" overflow=\"visible\">\n",
       "<path d=\"M -2.5 -2.875 C -3.265625 -2.875 -4.46875 -2.765625 -5.609375 -2.21875 C -6.828125 -1.625 -7.484375 -0.765625 -7.484375 -0.671875 C -7.484375 -0.609375 -7.4375 -0.5625 -7.375 -0.5625 C -7.34375 -0.5625 -7.328125 -0.5625 -7.140625 -0.75 C -6.15625 -1.734375 -4.578125 -2.296875 -2.5 -2.296875 C -0.78125 -2.296875 0.96875 -1.9375 2.21875 -0.703125 C 2.34375 -0.5625 2.359375 -0.5625 2.390625 -0.5625 C 2.453125 -0.5625 2.5 -0.609375 2.5 -0.671875 C 2.5 -0.765625 1.8125 -1.671875 0.546875 -2.25 C -0.546875 -2.765625 -1.65625 -2.875 -2.5 -2.875 Z M -2.5 -2.875 \" style=\"stroke:none;\"/>\n",
       "</symbol>\n",
       "<symbol id=\"glyph4-3\" overflow=\"visible\">\n",
       "<path d=\"M -3.265625 -6.84375 C -3.265625 -7 -3.265625 -7.1875 -3.453125 -7.1875 C -3.65625 -7.1875 -3.65625 -7 -3.65625 -6.859375 L -3.65625 -0.890625 C -3.65625 -0.75 -3.65625 -0.5625 -3.453125 -0.5625 C -3.265625 -0.5625 -3.265625 -0.75 -3.265625 -0.890625 Z M -1.328125 -6.859375 C -1.328125 -7 -1.328125 -7.1875 -1.53125 -7.1875 C -1.71875 -7.1875 -1.71875 -7 -1.71875 -6.84375 L -1.71875 -0.890625 C -1.71875 -0.75 -1.71875 -0.5625 -1.53125 -0.5625 C -1.328125 -0.5625 -1.328125 -0.75 -1.328125 -0.890625 Z M -1.328125 -6.859375 \" style=\"stroke:none;\"/>\n",
       "</symbol>\n",
       "<symbol id=\"glyph4-4\" overflow=\"visible\">\n",
       "<path d=\"M -6.921875 -1.765625 L -6.8125 -0.328125 L -6.5 -0.328125 C -6.5 -1.03125 -6.4375 -1.109375 -5.9375 -1.109375 L -0.75 -1.109375 C -0.3125 -1.109375 -0.3125 -1 -0.3125 -0.328125 L 0 -0.328125 C -0.015625 -0.65625 -0.03125 -1.1875 -0.03125 -1.4375 C -0.03125 -1.6875 -0.015625 -2.171875 0 -2.546875 L -0.3125 -2.546875 C -0.3125 -1.875 -0.3125 -1.765625 -0.75 -1.765625 Z M -6.921875 -1.765625 \" style=\"stroke:none;\"/>\n",
       "</symbol>\n",
       "<symbol id=\"glyph4-5\" overflow=\"visible\">\n",
       "<path d=\"M -3.421875 -1.09375 L -0.75 -1.09375 C -0.3125 -1.09375 -0.3125 -0.984375 -0.3125 -0.3125 L 0 -0.3125 C -0.015625 -0.671875 -0.03125 -1.171875 -0.03125 -1.453125 C -0.03125 -1.703125 -0.015625 -2.21875 0 -2.5625 L -0.3125 -2.5625 C -0.3125 -1.890625 -0.3125 -1.78125 -0.75 -1.78125 L -2.59375 -1.78125 C -3.625 -1.78125 -4.1875 -2.5 -4.1875 -3.125 C -4.1875 -3.765625 -3.65625 -3.875 -3.078125 -3.875 L -0.75 -3.875 C -0.3125 -3.875 -0.3125 -3.765625 -0.3125 -3.09375 L 0 -3.09375 C -0.015625 -3.4375 -0.03125 -3.953125 -0.03125 -4.21875 C -0.03125 -4.46875 -0.015625 -5 0 -5.328125 L -0.3125 -5.328125 C -0.3125 -4.8125 -0.3125 -4.5625 -0.609375 -4.5625 L -2.515625 -4.5625 C -3.375 -4.5625 -3.671875 -4.5625 -4.03125 -4.25 C -4.203125 -4.109375 -4.40625 -3.78125 -4.40625 -3.203125 C -4.40625 -2.46875 -3.984375 -2 -3.359375 -1.71875 L -4.40625 -1.71875 L -4.296875 -0.3125 L -3.984375 -0.3125 C -3.984375 -1.015625 -3.921875 -1.09375 -3.421875 -1.09375 Z M -3.421875 -1.09375 \" style=\"stroke:none;\"/>\n",
       "</symbol>\n",
       "<symbol id=\"glyph4-6\" overflow=\"visible\">\n",
       "<path d=\"M -0.765625 -1.265625 L -1.796875 -2.328125 C -3.171875 -3.875 -3.703125 -4.46875 -4.703125 -4.46875 C -5.84375 -4.46875 -6.640625 -3.578125 -6.640625 -2.359375 C -6.640625 -1.234375 -5.71875 -0.5 -4.828125 -0.5 C -4.28125 -0.5 -4.28125 -1 -4.28125 -1.03125 C -4.28125 -1.203125 -4.390625 -1.546875 -4.8125 -1.546875 C -5.0625 -1.546875 -5.328125 -1.359375 -5.328125 -1.015625 C -5.328125 -0.9375 -5.328125 -0.921875 -5.3125 -0.890625 C -5.96875 -1.109375 -6.328125 -1.65625 -6.328125 -2.234375 C -6.328125 -3.140625 -5.515625 -3.5625 -4.703125 -3.5625 C -3.90625 -3.5625 -3.125 -3.078125 -2.5 -2.515625 L -0.375 -0.609375 C -0.265625 -0.5 -0.234375 -0.5 0 -0.5 L 0 -4.203125 L -1.734375 -4.46875 L -1.734375 -4.234375 C -1.4375 -4.171875 -1 -4.109375 -0.84375 -4 C -0.765625 -3.9375 -0.765625 -3.28125 -0.765625 -3.0625 Z M -0.765625 -1.265625 \" style=\"stroke:none;\"/>\n",
       "</symbol>\n",
       "<symbol id=\"glyph5-0\" overflow=\"visible\">\n",
       "<path d=\"\" style=\"stroke:none;\"/>\n",
       "</symbol>\n",
       "<symbol id=\"glyph5-1\" overflow=\"visible\">\n",
       "<path d=\"M -0.734375 -1.734375 C -0.5 -1.671875 -0.125 -1.4375 -0.125 -1.078125 C -0.125 -1.0625 -0.125 -0.84375 -0.21875 -0.703125 C -0.3125 -0.984375 -0.5625 -1.015625 -0.609375 -1.015625 C -0.765625 -1.015625 -0.859375 -0.890625 -0.859375 -0.734375 C -0.859375 -0.53125 -0.703125 -0.328125 -0.4375 -0.328125 C -0.09375 -0.328125 0.0625 -0.71875 0.0625 -1.0625 C 0.0625 -1.390625 -0.125 -1.671875 -0.421875 -1.84375 C -0.0625 -2.015625 0.0625 -2.390625 0.0625 -2.671875 C 0.0625 -3.484375 -0.796875 -3.90625 -1 -3.90625 C -1.09375 -3.90625 -1.09375 -3.8125 -1.09375 -3.796875 C -1.09375 -3.6875 -1.046875 -3.6875 -0.96875 -3.65625 C -0.484375 -3.515625 -0.125 -3.09375 -0.125 -2.703125 C -0.125 -2.421875 -0.3125 -2.28125 -0.578125 -2.28125 C -0.765625 -2.28125 -1.390625 -2.453125 -2.171875 -2.640625 C -2.703125 -2.78125 -2.875 -3.09375 -2.875 -3.328125 C -2.875 -3.34375 -2.875 -3.546875 -2.78125 -3.703125 C -2.71875 -3.484375 -2.515625 -3.390625 -2.390625 -3.390625 C -2.25 -3.390625 -2.140625 -3.515625 -2.140625 -3.671875 C -2.140625 -3.828125 -2.265625 -4.0625 -2.5625 -4.0625 C -2.953125 -4.0625 -3.078125 -3.609375 -3.078125 -3.34375 C -3.078125 -2.984375 -2.84375 -2.703125 -2.578125 -2.5625 C -2.859375 -2.4375 -3.078125 -2.109375 -3.078125 -1.71875 C -3.078125 -0.9375 -2.21875 -0.5 -2 -0.5 C -1.921875 -0.5 -1.921875 -0.59375 -1.921875 -0.609375 C -1.921875 -0.703125 -1.9375 -0.703125 -2.03125 -0.75 C -2.578125 -0.921875 -2.875 -1.359375 -2.875 -1.703125 C -2.875 -1.9375 -2.75 -2.125 -2.421875 -2.125 C -2.28125 -2.125 -1.9375 -2.03125 -1.6875 -1.96875 Z M -0.734375 -1.734375 \" style=\"stroke:none;\"/>\n",
       "</symbol>\n",
       "<symbol id=\"glyph5-2\" overflow=\"visible\">\n",
       "<path d=\"M -4.921875 -3.484375 C -5.015625 -3.53125 -5.03125 -3.53125 -5.046875 -3.53125 C -5.15625 -3.53125 -5.21875 -3.4375 -5.21875 -3.359375 C -5.21875 -3.25 -5.140625 -3.21875 -5.046875 -3.171875 L 1.4375 -0.578125 C 1.53125 -0.53125 1.546875 -0.53125 1.5625 -0.53125 C 1.671875 -0.53125 1.734375 -0.625 1.734375 -0.703125 C 1.734375 -0.828125 1.65625 -0.859375 1.5625 -0.890625 Z M -4.921875 -3.484375 \" style=\"stroke:none;\"/>\n",
       "</symbol>\n",
       "<symbol id=\"glyph6-0\" overflow=\"visible\">\n",
       "<path d=\"\" style=\"stroke:none;\"/>\n",
       "</symbol>\n",
       "<symbol id=\"glyph6-1\" overflow=\"visible\">\n",
       "<path d=\"M -1.140625 -3.6875 L -1.390625 -3.6875 L -1.390625 -2.90625 L -4.5 -2.90625 C -4.640625 -2.90625 -4.703125 -2.90625 -4.703125 -2.765625 C -4.703125 -2.671875 -4.703125 -2.640625 -4.59375 -2.578125 L -1.390625 -0.265625 L -1.140625 -0.265625 L -1.140625 -2.328125 L -0.578125 -2.328125 C -0.328125 -2.328125 -0.25 -2.328125 -0.25 -1.75 L -0.25 -1.5625 L 0 -1.5625 C -0.015625 -1.921875 -0.03125 -2.359375 -0.03125 -2.609375 C -0.03125 -2.875 -0.015625 -3.3125 0 -3.671875 L -0.25 -3.671875 L -0.25 -3.484375 C -0.25 -2.90625 -0.328125 -2.90625 -0.578125 -2.90625 L -1.140625 -2.90625 Z M -3.9375 -2.375 L -1.390625 -2.375 L -1.390625 -0.53125 Z M -3.9375 -2.375 \" style=\"stroke:none;\"/>\n",
       "</symbol>\n",
       "</g>\n",
       "<clipPath id=\"clip1\">\n",
       "  <path d=\"M 43 34 L 238.328125 34 L 238.328125 127 L 43 127 Z M 43 34 \"/>\n",
       "</clipPath>\n",
       "<clipPath id=\"clip2\">\n",
       "  <path d=\"M 43 0 L 238.328125 0 L 238.328125 162 L 43 162 Z M 43 0 \"/>\n",
       "</clipPath>\n",
       "</defs>\n",
       "<g id=\"surface1\">\n",
       "<path d=\"M -2.813625 -13.45075 L -2.813625 -9.196844 M 24.635594 -13.45075 L 24.635594 -9.196844 M 52.088719 -13.45075 L 52.088719 -9.196844 M 79.541844 -13.45075 L 79.541844 -9.196844 M 106.991062 -13.45075 L 106.991062 -9.196844 M 134.444187 -13.45075 L 134.444187 -9.196844 M 161.897312 -13.45075 L 161.897312 -9.196844 M -2.813625 147.947688 L -2.813625 143.693781 M 24.635594 147.947688 L 24.635594 143.693781 M 52.088719 147.947688 L 52.088719 143.693781 M 79.541844 147.947688 L 79.541844 143.693781 M 106.991062 147.947688 L 106.991062 143.693781 M 134.444187 147.947688 L 134.444187 143.693781 M 161.897312 147.947688 L 161.897312 143.693781 \" style=\"fill:none;stroke-width:0.19925;stroke-linecap:butt;stroke-linejoin:miter;stroke:rgb(50%,50%,50%);stroke-opacity:1;stroke-miterlimit:10;\" transform=\"matrix(1,0,0,-1,60.048,148.143)\"/>\n",
       "<g clip-path=\"url(#clip1)\" clip-rule=\"nonzero\">\n",
       "<path d=\"M -16.188625 22.084406 L -11.938625 22.084406 M -16.188625 67.904719 L -11.938625 67.904719 M -16.188625 113.725031 L -11.938625 113.725031 M 178.084812 22.084406 L 173.830906 22.084406 M 178.084812 67.904719 L 173.830906 67.904719 M 178.084812 113.725031 L 173.830906 113.725031 \" style=\"fill:none;stroke-width:0.19925;stroke-linecap:butt;stroke-linejoin:miter;stroke:rgb(50%,50%,50%);stroke-opacity:1;stroke-miterlimit:10;\" transform=\"matrix(1,0,0,-1,60.048,148.143)\"/>\n",
       "</g>\n",
       "<g clip-path=\"url(#clip2)\" clip-rule=\"nonzero\">\n",
       "<path d=\"M -16.188625 -13.45075 L -16.188625 147.947688 L 178.084812 147.947688 L 178.084812 -13.45075 Z M -16.188625 -13.45075 \" style=\"fill:none;stroke-width:0.3985;stroke-linecap:butt;stroke-linejoin:miter;stroke:rgb(0%,0%,0%);stroke-opacity:1;stroke-miterlimit:10;\" transform=\"matrix(1,0,0,-1,60.048,148.143)\"/>\n",
       "</g>\n",
       "<g style=\"fill:rgb(0%,0%,0%);fill-opacity:1;\">\n",
       "  <use x=\"54.743\" xlink:href=\"#glyph0-1\" y=\"171.533\"/>\n",
       "</g>\n",
       "<g style=\"fill:rgb(0%,0%,0%);fill-opacity:1;\">\n",
       "  <use x=\"82.194\" xlink:href=\"#glyph0-2\" y=\"171.533\"/>\n",
       "</g>\n",
       "<g style=\"fill:rgb(0%,0%,0%);fill-opacity:1;\">\n",
       "  <use x=\"107.155\" xlink:href=\"#glyph0-3\" y=\"171.533\"/>\n",
       "  <use x=\"112.1363\" xlink:href=\"#glyph0-1\" y=\"171.533\"/>\n",
       "</g>\n",
       "<g style=\"fill:rgb(0%,0%,0%);fill-opacity:1;\">\n",
       "  <use x=\"134.606\" xlink:href=\"#glyph0-3\" y=\"171.533\"/>\n",
       "  <use x=\"139.5873\" xlink:href=\"#glyph0-2\" y=\"171.533\"/>\n",
       "</g>\n",
       "<g style=\"fill:rgb(0%,0%,0%);fill-opacity:1;\">\n",
       "  <use x=\"162.058\" xlink:href=\"#glyph0-4\" y=\"171.533\"/>\n",
       "  <use x=\"167.0393\" xlink:href=\"#glyph0-1\" y=\"171.533\"/>\n",
       "</g>\n",
       "<g style=\"fill:rgb(0%,0%,0%);fill-opacity:1;\">\n",
       "  <use x=\"189.509\" xlink:href=\"#glyph0-4\" y=\"171.533\"/>\n",
       "  <use x=\"194.4903\" xlink:href=\"#glyph0-2\" y=\"171.533\"/>\n",
       "</g>\n",
       "<g style=\"fill:rgb(0%,0%,0%);fill-opacity:1;\">\n",
       "  <use x=\"216.96\" xlink:href=\"#glyph0-5\" y=\"171.533\"/>\n",
       "  <use x=\"221.9413\" xlink:href=\"#glyph0-1\" y=\"171.533\"/>\n",
       "</g>\n",
       "<g style=\"fill:rgb(0%,0%,0%);fill-opacity:1;\">\n",
       "  <use x=\"27.608\" xlink:href=\"#glyph1-1\" y=\"128.852\"/>\n",
       "</g>\n",
       "<g style=\"fill:rgb(0%,0%,0%);fill-opacity:1;\">\n",
       "  <use x=\"35.357\" xlink:href=\"#glyph0-4\" y=\"128.852\"/>\n",
       "</g>\n",
       "<g style=\"fill:rgb(0%,0%,0%);fill-opacity:1;\">\n",
       "  <use x=\"35.357\" xlink:href=\"#glyph0-1\" y=\"83.449\"/>\n",
       "</g>\n",
       "<g style=\"fill:rgb(0%,0%,0%);fill-opacity:1;\">\n",
       "  <use x=\"35.357\" xlink:href=\"#glyph0-4\" y=\"37.631\"/>\n",
       "</g>\n",
       "<path d=\"M -0.001125 -0.00153125 L 7.037937 41.412531 L 14.077 59.225031 L 21.116062 70.740656 L 28.155125 79.264094 L 35.194187 86.033625 L 42.23325 91.650813 L 49.272312 96.447688 L 56.311375 100.635188 L 63.350437 104.353938 L 70.3895 107.693781 L 77.428562 110.728938 L 84.467625 113.506281 L 91.506687 116.072688 L 98.541844 118.451594 L 105.580906 120.670344 L 112.619969 122.748469 L 119.659031 124.7055 L 126.698094 126.54925 L 133.737156 128.29925 L 140.776219 129.963313 L 147.815281 131.541438 L 154.854344 133.04925 L 161.893406 134.494563 \" style=\"fill:none;stroke-width:0.3985;stroke-linecap:butt;stroke-linejoin:miter;stroke:rgb(0%,100%,0%);stroke-opacity:1;stroke-miterlimit:10;\" transform=\"matrix(1,0,0,-1,60.048,148.143)\"/>\n",
       "<g style=\"fill:rgb(0%,0%,0%);fill-opacity:1;\">\n",
       "  <use x=\"138.147\" xlink:href=\"#glyph2-1\" y=\"184.346\"/>\n",
       "</g>\n",
       "<g style=\"fill:rgb(0%,0%,0%);fill-opacity:1;\">\n",
       "  <use x=\"12.166\" xlink:href=\"#glyph3-1\" y=\"114.285\"/>\n",
       "</g>\n",
       "<g style=\"fill:rgb(0%,0%,0%);fill-opacity:1;\">\n",
       "  <use x=\"12.166\" xlink:href=\"#glyph4-1\" y=\"108.335\"/>\n",
       "</g>\n",
       "<g style=\"fill:rgb(0%,0%,0%);fill-opacity:1;\">\n",
       "  <use x=\"12.166\" xlink:href=\"#glyph3-2\" y=\"104.46\"/>\n",
       "</g>\n",
       "<g style=\"fill:rgb(0%,0%,0%);fill-opacity:1;\">\n",
       "  <use x=\"12.166\" xlink:href=\"#glyph4-2\" y=\"98.767\"/>\n",
       "</g>\n",
       "<g style=\"fill:rgb(0%,0%,0%);fill-opacity:1;\">\n",
       "  <use x=\"12.166\" xlink:href=\"#glyph4-3\" y=\"92.122942\"/>\n",
       "</g>\n",
       "<g style=\"fill:rgb(0%,0%,0%);fill-opacity:1;\">\n",
       "  <use x=\"12.166\" xlink:href=\"#glyph4-4\" y=\"81.604429\"/>\n",
       "  <use x=\"12.166\" xlink:href=\"#glyph4-5\" y=\"78.836819\"/>\n",
       "  <use x=\"12.166\" xlink:href=\"#glyph4-1\" y=\"73.301598\"/>\n",
       "  <use x=\"12.166\" xlink:href=\"#glyph4-6\" y=\"69.427143\"/>\n",
       "</g>\n",
       "<g style=\"fill:rgb(0%,0%,0%);fill-opacity:1;\">\n",
       "  <use x=\"8.55\" xlink:href=\"#glyph5-1\" y=\"64.451\"/>\n",
       "  <use x=\"8.55\" xlink:href=\"#glyph5-2\" y=\"59.933372\"/>\n",
       "</g>\n",
       "<g style=\"fill:rgb(0%,0%,0%);fill-opacity:1;\">\n",
       "  <use x=\"8.55\" xlink:href=\"#glyph6-1\" y=\"55.851\"/>\n",
       "</g>\n",
       "<g style=\"fill:rgb(0%,0%,0%);fill-opacity:1;\">\n",
       "  <use x=\"12.166\" xlink:href=\"#glyph4-2\" y=\"51.382\"/>\n",
       "</g>\n",
       "</g>\n",
       "</svg>"
      ]
     },
     "metadata": {
      "isolated": "true"
     },
     "output_type": "display_data"
    }
   ],
   "source": [
    "%%tikz -p pgfplots -f svg\n",
    "\\begin{axis}[\n",
    "  xlabel=$x$,\n",
    "  ylabel={$f(x) = \\ln(2^{x/4})$}\n",
    "]\n",
    "\\addplot [green,domain=-20:30, samples=40]{log2(x /4)};\n",
    "%%%\\addplot [blue,domain=-30:30, samples=60]{log2(x^(x/4))};\n",
    "%%%\\addplot [red, domain=-34:34, samples=68]{exp(2^(x/4))};\n",
    "\\end{axis}"
   ]
  },
  {
   "cell_type": "code",
   "execution_count": 74,
   "metadata": {},
   "outputs": [
    {
     "name": "stderr",
     "output_type": "stream",
     "text": [
      "LaTeX terminated with signal -1\n"
     ]
    },
    {
     "data": {
      "text/plain": [
       "This is pdfTeX, Version 3.14159265-2.6-1.40.18 (TeX Live 2017/Debian) (preloaded format=pdflatex 2020.7.13)  13 JUL 2020 14:32\n",
       "entering extended mode\n",
       " \\write18 enabled.\n",
       " %&-line parsing enabled.\n",
       "**tikz.tex\n",
       "(./tikz.tex\n",
       "LaTeX2e <2017-04-15>\n",
       "Babel <3.18> and hyphenation patterns for 7 language(s) loaded.\n",
       "(/usr/share/texlive/texmf-dist/tex/latex/standalone/standalone.cls\n",
       "Document Class: standalone 2015/07/15 v1.2 Class to compile TeX sub-files stand\n",
       "alone\n",
       "(/usr/share/texlive/texmf-dist/tex/generic/oberdiek/ifluatex.sty\n",
       "Package: ifluatex 2016/05/16 v1.4 Provides the ifluatex switch (HO)\n",
       "Package ifluatex Info: LuaTeX not detected.\n",
       ")\n",
       "(/usr/share/texlive/texmf-dist/tex/generic/oberdiek/ifpdf.sty\n",
       "Package: ifpdf 2017/03/15 v3.2 Provides the ifpdf switch\n",
       ")\n",
       "(/usr/share/texlive/texmf-dist/tex/generic/ifxetex/ifxetex.sty\n",
       "Package: ifxetex 2010/09/12 v0.6 Provides ifxetex conditional\n",
       ")\n",
       "(/usr/share/texlive/texmf-dist/tex/latex/xkeyval/xkeyval.sty\n",
       "Package: xkeyval 2014/12/03 v2.7a package option processing (HA)\n",
       "\n",
       "(/usr/share/texlive/texmf-dist/tex/generic/xkeyval/xkeyval.tex\n",
       "(/usr/share/texlive/texmf-dist/tex/generic/xkeyval/xkvutils.tex\n",
       "\\XKV@toks=\\toks14\n",
       "\\XKV@tempa@toks=\\toks15\n",
       "\n",
       "(/usr/share/texlive/texmf-dist/tex/generic/xkeyval/keyval.tex))\n",
       "\\XKV@depth=\\count79\n",
       "File: xkeyval.tex 2014/12/03 v2.7a key=value parser (HA)\n",
       "))\n",
       "\\sa@internal=\\count80\n",
       "\\c@sapage=\\count81\n",
       "\n",
       "(/usr/share/texlive/texmf-dist/tex/latex/standalone/standalone.cfg\n",
       "File: standalone.cfg 2015/07/15 v1.2 Default configuration file for 'standalone\n",
       "' class\n",
       ")\n",
       "(/usr/share/texlive/texmf-dist/tex/latex/base/article.cls\n",
       "Document Class: article 2014/09/29 v1.4h Standard LaTeX document class\n",
       "(/usr/share/texlive/texmf-dist/tex/latex/base/size10.clo\n",
       "File: size10.clo 2014/09/29 v1.4h Standard LaTeX file (size option)\n",
       ")\n",
       "\\c@part=\\count82\n",
       "\\c@section=\\count83\n",
       "\\c@subsection=\\count84\n",
       "\\c@subsubsection=\\count85\n",
       "\\c@paragraph=\\count86\n",
       "\\c@subparagraph=\\count87\n",
       "\\c@figure=\\count88\n",
       "\\c@table=\\count89\n",
       "\\abovecaptionskip=\\skip41\n",
       "\\belowcaptionskip=\\skip42\n",
       "\\bibindent=\\dimen102\n",
       ")\n",
       "\\sa@box=\\box26\n",
       "runsystem(pdflatex  -shell-escape  -jobname 'tikz' '\\expandafter\\def\\csname sa@\n",
       "internal@run\\endcsname{1}\\input{tikz}')...executed.\n",
       "\n",
       " (./tikz.aux)\n",
       "runsystem(convert -density 300 tikz.pdf -resize 400x400 -quality 90 tikz.png)..\n",
       ".executed.\n",
       "\n",
       "\n",
       "\n",
       "Class standalone Warning: Conversion unsuccessful!\n",
       "(standalone)              There might be something wrong with your\n",
       "(standalone)              conversation software or the file permissions!\n",
       "\n",
       ") (/usr/share/texlive/texmf-dist/tex/latex/pgf/frontendlayer/tikz.sty\n",
       "(/usr/share/texlive/texmf-dist/tex/latex/pgf/basiclayer/pgf.sty\n",
       "(/usr/share/texlive/texmf-dist/tex/latex/pgf/utilities/pgfrcs.sty\n",
       "(/usr/share/texlive/texmf-dist/tex/generic/pgf/utilities/pgfutil-common.tex\n",
       "\\pgfutil@everybye=\\toks16\n",
       "\\pgfutil@tempdima=\\dimen103\n",
       "\\pgfutil@tempdimb=\\dimen104\n",
       "\n",
       "(/usr/share/texlive/texmf-dist/tex/generic/pgf/utilities/pgfutil-common-lists.t\n",
       "ex)) (/usr/share/texlive/texmf-dist/tex/generic/pgf/utilities/pgfutil-latex.def\n",
       "\\pgfutil@abb=\\box27\n",
       "(/usr/share/texlive/texmf-dist/tex/latex/ms/everyshi.sty\n",
       "Package: everyshi 2001/05/15 v3.00 EveryShipout Package (MS)\n",
       "))\n",
       "(/usr/share/texlive/texmf-dist/tex/generic/pgf/utilities/pgfrcs.code.tex\n",
       "Package: pgfrcs 2015/08/07 v3.0.1a (rcs-revision 1.31)\n",
       "))\n",
       "Package: pgf 2015/08/07 v3.0.1a (rcs-revision 1.15)\n",
       "\n",
       "(/usr/share/texlive/texmf-dist/tex/latex/pgf/basiclayer/pgfcore.sty\n",
       "(/usr/share/texlive/texmf-dist/tex/latex/graphics/graphicx.sty\n",
       "Package: graphicx 2017/06/01 v1.1a Enhanced LaTeX Graphics (DPC,SPQR)\n",
       "\n",
       "(/usr/share/texlive/texmf-dist/tex/latex/graphics/graphics.sty\n",
       "Package: graphics 2017/06/25 v1.2c Standard LaTeX Graphics (DPC,SPQR)\n",
       "\n",
       "(/usr/share/texlive/texmf-dist/tex/latex/graphics/trig.sty\n",
       "Package: trig 2016/01/03 v1.10 sin cos tan (DPC)\n",
       ")\n",
       "(/usr/share/texlive/texmf-dist/tex/latex/graphics-cfg/graphics.cfg\n",
       "File: graphics.cfg 2016/06/04 v1.11 sample graphics configuration\n",
       ")\n",
       "Package graphics Info: Driver file: pdftex.def on input line 99.\n",
       "\n",
       "(/usr/share/texlive/texmf-dist/tex/latex/graphics-def/pdftex.def\n",
       "File: pdftex.def 2018/01/08 v1.0l Graphics/color driver for pdftex\n",
       "))\n",
       "\\Gin@req@height=\\dimen105\n",
       "\\Gin@req@width=\\dimen106\n",
       ")\n",
       "(/usr/share/texlive/texmf-dist/tex/latex/pgf/systemlayer/pgfsys.sty\n",
       "(/usr/share/texlive/texmf-dist/tex/generic/pgf/systemlayer/pgfsys.code.tex\n",
       "Package: pgfsys 2014/07/09 v3.0.1a (rcs-revision 1.48)\n",
       "\n",
       "(/usr/share/texlive/texmf-dist/tex/generic/pgf/utilities/pgfkeys.code.tex\n",
       "\\pgfkeys@pathtoks=\\toks17\n",
       "\\pgfkeys@temptoks=\\toks18\n",
       "\n",
       "(/usr/share/texlive/texmf-dist/tex/generic/pgf/utilities/pgfkeysfiltered.code.t\n",
       "ex\n",
       "\\pgfkeys@tmptoks=\\toks19\n",
       "))\n",
       "\\pgf@x=\\dimen107\n",
       "\\pgf@y=\\dimen108\n",
       "\\pgf@xa=\\dimen109\n",
       "\\pgf@ya=\\dimen110\n",
       "\\pgf@xb=\\dimen111\n",
       "\\pgf@yb=\\dimen112\n",
       "\\pgf@xc=\\dimen113\n",
       "\\pgf@yc=\\dimen114\n",
       "\\w@pgf@writea=\\write3\n",
       "\\r@pgf@reada=\\read1\n",
       "\\c@pgf@counta=\\count90\n",
       "\\c@pgf@countb=\\count91\n",
       "\\c@pgf@countc=\\count92\n",
       "\\c@pgf@countd=\\count93\n",
       "\\t@pgf@toka=\\toks20\n",
       "\\t@pgf@tokb=\\toks21\n",
       "\\t@pgf@tokc=\\toks22\n",
       " (/usr/share/texlive/texmf-dist/tex/generic/pgf/systemlayer/pgf.cfg\n",
       "File: pgf.cfg 2008/05/14  (rcs-revision 1.7)\n",
       ")\n",
       "Driver file for pgf: pgfsys-pdftex.def\n",
       "\n",
       "(/usr/share/texlive/texmf-dist/tex/generic/pgf/systemlayer/pgfsys-pdftex.def\n",
       "File: pgfsys-pdftex.def 2014/10/11  (rcs-revision 1.35)\n",
       "\n",
       "(/usr/share/texlive/texmf-dist/tex/generic/pgf/systemlayer/pgfsys-common-pdf.de\n",
       "f\n",
       "File: pgfsys-common-pdf.def 2013/10/10  (rcs-revision 1.13)\n",
       ")))\n",
       "(/usr/share/texlive/texmf-dist/tex/generic/pgf/systemlayer/pgfsyssoftpath.code.\n",
       "tex\n",
       "File: pgfsyssoftpath.code.tex 2013/09/09  (rcs-revision 1.9)\n",
       "\\pgfsyssoftpath@smallbuffer@items=\\count94\n",
       "\\pgfsyssoftpath@bigbuffer@items=\\count95\n",
       ")\n",
       "(/usr/share/texlive/texmf-dist/tex/generic/pgf/systemlayer/pgfsysprotocol.code.\n",
       "tex\n",
       "File: pgfsysprotocol.code.tex 2006/10/16  (rcs-revision 1.4)\n",
       ")) (/usr/share/texlive/texmf-dist/tex/latex/xcolor/xcolor.sty\n",
       "Package: xcolor 2016/05/11 v2.12 LaTeX color extensions (UK)\n",
       "\n",
       "(/usr/share/texlive/texmf-dist/tex/latex/graphics-cfg/color.cfg\n",
       "File: color.cfg 2016/01/02 v1.6 sample color configuration\n",
       ")\n",
       "Package xcolor Info: Driver file: pdftex.def on input line 225.\n",
       "Package xcolor Info: Model `cmy' substituted by `cmy0' on input line 1348.\n",
       "Package xcolor Info: Model `hsb' substituted by `rgb' on input line 1352.\n",
       "Package xcolor Info: Model `RGB' extended on input line 1364.\n",
       "Package xcolor Info: Model `HTML' substituted by `rgb' on input line 1366.\n",
       "Package xcolor Info: Model `Hsb' substituted by `hsb' on input line 1367.\n",
       "Package xcolor Info: Model `tHsb' substituted by `hsb' on input line 1368.\n",
       "Package xcolor Info: Model `HSB' substituted by `hsb' on input line 1369.\n",
       "Package xcolor Info: Model `Gray' substituted by `gray' on input line 1370.\n",
       "Package xcolor Info: Model `wave' substituted by `hsb' on input line 1371.\n",
       ")\n",
       "(/usr/share/texlive/texmf-dist/tex/generic/pgf/basiclayer/pgfcore.code.tex\n",
       "Package: pgfcore 2010/04/11 v3.0.1a (rcs-revision 1.7)\n",
       "\n",
       "(/usr/share/texlive/texmf-dist/tex/generic/pgf/math/pgfmath.code.tex\n",
       "(/usr/share/texlive/texmf-dist/tex/generic/pgf/math/pgfmathcalc.code.tex\n",
       "(/usr/share/texlive/texmf-dist/tex/generic/pgf/math/pgfmathutil.code.tex)\n",
       "(/usr/share/texlive/texmf-dist/tex/generic/pgf/math/pgfmathparser.code.tex\n",
       "\\pgfmath@dimen=\\dimen115\n",
       "\\pgfmath@count=\\count96\n",
       "\\pgfmath@box=\\box28\n",
       "\\pgfmath@toks=\\toks23\n",
       "\\pgfmath@stack@operand=\\toks24\n",
       "\\pgfmath@stack@operation=\\toks25\n",
       ")\n",
       "(/usr/share/texlive/texmf-dist/tex/generic/pgf/math/pgfmathfunctions.code.tex\n",
       "(/usr/share/texlive/texmf-dist/tex/generic/pgf/math/pgfmathfunctions.basic.code\n",
       ".tex)\n",
       "(/usr/share/texlive/texmf-dist/tex/generic/pgf/math/pgfmathfunctions.trigonomet\n",
       "ric.code.tex)\n",
       "(/usr/share/texlive/texmf-dist/tex/generic/pgf/math/pgfmathfunctions.random.cod\n",
       "e.tex)\n",
       "(/usr/share/texlive/texmf-dist/tex/generic/pgf/math/pgfmathfunctions.comparison\n",
       ".code.tex)\n",
       "(/usr/share/texlive/texmf-dist/tex/generic/pgf/math/pgfmathfunctions.base.code.\n",
       "tex)\n",
       "(/usr/share/texlive/texmf-dist/tex/generic/pgf/math/pgfmathfunctions.round.code\n",
       ".tex)\n",
       "(/usr/share/texlive/texmf-dist/tex/generic/pgf/math/pgfmathfunctions.misc.code.\n",
       "tex)\n",
       "(/usr/share/texlive/texmf-dist/tex/generic/pgf/math/pgfmathfunctions.integerari\n",
       "thmetics.code.tex)))\n",
       "(/usr/share/texlive/texmf-dist/tex/generic/pgf/math/pgfmathfloat.code.tex\n",
       "\\c@pgfmathroundto@lastzeros=\\count97\n",
       "))\n",
       "(/usr/share/texlive/texmf-dist/tex/generic/pgf/basiclayer/pgfcorepoints.code.te\n",
       "x\n",
       "File: pgfcorepoints.code.tex 2013/10/07  (rcs-revision 1.27)\n",
       "\\pgf@picminx=\\dimen116\n",
       "\\pgf@picmaxx=\\dimen117\n",
       "\\pgf@picminy=\\dimen118\n",
       "\\pgf@picmaxy=\\dimen119\n",
       "\\pgf@pathminx=\\dimen120\n",
       "\\pgf@pathmaxx=\\dimen121\n",
       "\\pgf@pathminy=\\dimen122\n",
       "\\pgf@pathmaxy=\\dimen123\n",
       "\\pgf@xx=\\dimen124\n",
       "\\pgf@xy=\\dimen125\n",
       "\\pgf@yx=\\dimen126\n",
       "\\pgf@yy=\\dimen127\n",
       "\\pgf@zx=\\dimen128\n",
       "\\pgf@zy=\\dimen129\n",
       ")\n",
       "(/usr/share/texlive/texmf-dist/tex/generic/pgf/basiclayer/pgfcorepathconstruct.\n",
       "code.tex\n",
       "File: pgfcorepathconstruct.code.tex 2013/10/07  (rcs-revision 1.29)\n",
       "\\pgf@path@lastx=\\dimen130\n",
       "\\pgf@path@lasty=\\dimen131\n",
       ")\n",
       "(/usr/share/texlive/texmf-dist/tex/generic/pgf/basiclayer/pgfcorepathusage.code\n",
       ".tex\n",
       "File: pgfcorepathusage.code.tex 2014/11/02  (rcs-revision 1.24)\n",
       "\\pgf@shorten@end@additional=\\dimen132\n",
       "\\pgf@shorten@start@additional=\\dimen133\n",
       ")\n",
       "(/usr/share/texlive/texmf-dist/tex/generic/pgf/basiclayer/pgfcorescopes.code.te\n",
       "x\n",
       "File: pgfcorescopes.code.tex 2015/05/08  (rcs-revision 1.46)\n",
       "\\pgfpic=\\box29\n",
       "\\pgf@hbox=\\box30\n",
       "\\pgf@layerbox@main=\\box31\n",
       "\\pgf@picture@serial@count=\\count98\n",
       ")\n",
       "(/usr/share/texlive/texmf-dist/tex/generic/pgf/basiclayer/pgfcoregraphicstate.c\n",
       "ode.tex\n",
       "File: pgfcoregraphicstate.code.tex 2014/11/02  (rcs-revision 1.12)\n",
       "\\pgflinewidth=\\dimen134\n",
       ")\n",
       "(/usr/share/texlive/texmf-dist/tex/generic/pgf/basiclayer/pgfcoretransformation\n",
       "s.code.tex\n",
       "File: pgfcoretransformations.code.tex 2015/08/07  (rcs-revision 1.20)\n",
       "\\pgf@pt@x=\\dimen135\n",
       "\\pgf@pt@y=\\dimen136\n",
       "\\pgf@pt@temp=\\dimen137\n",
       ")\n",
       "(/usr/share/texlive/texmf-dist/tex/generic/pgf/basiclayer/pgfcorequick.code.tex\n",
       "File: pgfcorequick.code.tex 2008/10/09  (rcs-revision 1.3)\n",
       ")\n",
       "(/usr/share/texlive/texmf-dist/tex/generic/pgf/basiclayer/pgfcoreobjects.code.t\n",
       "ex\n",
       "File: pgfcoreobjects.code.tex 2006/10/11  (rcs-revision 1.2)\n",
       ")\n",
       "(/usr/share/texlive/texmf-dist/tex/generic/pgf/basiclayer/pgfcorepathprocessing\n",
       ".code.tex\n",
       "File: pgfcorepathprocessing.code.tex 2013/09/09  (rcs-revision 1.9)\n",
       ")\n",
       "(/usr/share/texlive/texmf-dist/tex/generic/pgf/basiclayer/pgfcorearrows.code.te\n",
       "x\n",
       "File: pgfcorearrows.code.tex 2015/05/14  (rcs-revision 1.43)\n",
       "\\pgfarrowsep=\\dimen138\n",
       ")\n",
       "(/usr/share/texlive/texmf-dist/tex/generic/pgf/basiclayer/pgfcoreshade.code.tex\n",
       "File: pgfcoreshade.code.tex 2013/07/15  (rcs-revision 1.15)\n",
       "\\pgf@max=\\dimen139\n",
       "\\pgf@sys@shading@range@num=\\count99\n",
       ")\n",
       "(/usr/share/texlive/texmf-dist/tex/generic/pgf/basiclayer/pgfcoreimage.code.tex\n",
       "File: pgfcoreimage.code.tex 2013/07/15  (rcs-revision 1.18)\n",
       "\n",
       "(/usr/share/texlive/texmf-dist/tex/generic/pgf/basiclayer/pgfcoreexternal.code.\n",
       "tex\n",
       "File: pgfcoreexternal.code.tex 2014/07/09  (rcs-revision 1.21)\n",
       "\\pgfexternal@startupbox=\\box32\n",
       "))\n",
       "(/usr/share/texlive/texmf-dist/tex/generic/pgf/basiclayer/pgfcorelayers.code.te\n",
       "x\n",
       "File: pgfcorelayers.code.tex 2013/07/18  (rcs-revision 1.7)\n",
       ")\n",
       "(/usr/share/texlive/texmf-dist/tex/generic/pgf/basiclayer/pgfcoretransparency.c\n",
       "ode.tex\n",
       "File: pgfcoretransparency.code.tex 2013/09/30  (rcs-revision 1.5)\n",
       ")\n",
       "(/usr/share/texlive/texmf-dist/tex/generic/pgf/basiclayer/pgfcorepatterns.code.\n",
       "tex\n",
       "File: pgfcorepatterns.code.tex 2013/11/07  (rcs-revision 1.5)\n",
       ")))\n",
       "(/usr/share/texlive/texmf-dist/tex/generic/pgf/modules/pgfmoduleshapes.code.tex\n",
       "File: pgfmoduleshapes.code.tex 2014/03/21  (rcs-revision 1.35)\n",
       "\\pgfnodeparttextbox=\\box33\n",
       ") (/usr/share/texlive/texmf-dist/tex/generic/pgf/modules/pgfmoduleplot.code.tex\n",
       "File: pgfmoduleplot.code.tex 2015/08/03  (rcs-revision 1.13)\n",
       ")\n",
       "(/usr/share/texlive/texmf-dist/tex/latex/pgf/compatibility/pgfcomp-version-0-65\n",
       ".sty\n",
       "Package: pgfcomp-version-0-65 2007/07/03 v3.0.1a (rcs-revision 1.7)\n",
       "\\pgf@nodesepstart=\\dimen140\n",
       "\\pgf@nodesepend=\\dimen141\n",
       ")\n",
       "(/usr/share/texlive/texmf-dist/tex/latex/pgf/compatibility/pgfcomp-version-1-18\n",
       ".sty\n",
       "Package: pgfcomp-version-1-18 2007/07/23 v3.0.1a (rcs-revision 1.1)\n",
       ")) (/usr/share/texlive/texmf-dist/tex/latex/pgf/utilities/pgffor.sty\n",
       "(/usr/share/texlive/texmf-dist/tex/latex/pgf/utilities/pgfkeys.sty\n",
       "(/usr/share/texlive/texmf-dist/tex/generic/pgf/utilities/pgfkeys.code.tex))\n",
       "(/usr/share/texlive/texmf-dist/tex/latex/pgf/math/pgfmath.sty\n",
       "(/usr/share/texlive/texmf-dist/tex/generic/pgf/math/pgfmath.code.tex))\n",
       "(/usr/share/texlive/texmf-dist/tex/generic/pgf/utilities/pgffor.code.tex\n",
       "Package: pgffor 2013/12/13 v3.0.1a (rcs-revision 1.25)\n",
       "\n",
       "(/usr/share/texlive/texmf-dist/tex/generic/pgf/math/pgfmath.code.tex)\n",
       "\\pgffor@iter=\\dimen142\n",
       "\\pgffor@skip=\\dimen143\n",
       "\\pgffor@stack=\\toks26\n",
       "\\pgffor@toks=\\toks27\n",
       "))\n",
       "(/usr/share/texlive/texmf-dist/tex/generic/pgf/frontendlayer/tikz/tikz.code.tex\n",
       "Package: tikz 2015/08/07 v3.0.1a (rcs-revision 1.151)\n",
       "\n",
       "(/usr/share/texlive/texmf-dist/tex/generic/pgf/libraries/pgflibraryplothandlers\n",
       ".code.tex\n",
       "File: pgflibraryplothandlers.code.tex 2013/08/31 v3.0.1a (rcs-revision 1.20)\n",
       "\\pgf@plot@mark@count=\\count100\n",
       "\\pgfplotmarksize=\\dimen144\n",
       ")\n",
       "\\tikz@lastx=\\dimen145\n",
       "\\tikz@lasty=\\dimen146\n",
       "\\tikz@lastxsaved=\\dimen147\n",
       "\\tikz@lastysaved=\\dimen148\n",
       "\\tikzleveldistance=\\dimen149\n",
       "\\tikzsiblingdistance=\\dimen150\n",
       "\\tikz@figbox=\\box34\n",
       "\\tikz@figbox@bg=\\box35\n",
       "\\tikz@tempbox=\\box36\n",
       "\\tikz@tempbox@bg=\\box37\n",
       "\\tikztreelevel=\\count101\n",
       "\\tikznumberofchildren=\\count102\n",
       "\\tikznumberofcurrentchild=\\count103\n",
       "\\tikz@fig@count=\\count104\n",
       "\n",
       "(/usr/share/texlive/texmf-dist/tex/generic/pgf/modules/pgfmodulematrix.code.tex\n",
       "File: pgfmodulematrix.code.tex 2013/09/17  (rcs-revision 1.8)\n",
       "\\pgfmatrixcurrentrow=\\count105\n",
       "\\pgfmatrixcurrentcolumn=\\count106\n",
       "\\pgf@matrix@numberofcolumns=\\count107\n",
       ")\n",
       "\\tikz@expandcount=\\count108\n",
       "\n",
       "(/usr/share/texlive/texmf-dist/tex/generic/pgf/frontendlayer/tikz/libraries/tik\n",
       "zlibrarytopaths.code.tex\n",
       "File: tikzlibrarytopaths.code.tex 2008/06/17 v3.0.1a (rcs-revision 1.2)\n",
       "))) (./tikz.aux)\n",
       "\\openout1 = `tikz.aux'.\n",
       "\n",
       "LaTeX Font Info:    Checking defaults for OML/cmm/m/it on input line 5.\n",
       "LaTeX Font Info:    ... okay on input line 5.\n",
       "LaTeX Font Info:    Checking defaults for T1/cmr/m/n on input line 5.\n",
       "LaTeX Font Info:    ... okay on input line 5.\n",
       "LaTeX Font Info:    Checking defaults for OT1/cmr/m/n on input line 5.\n",
       "LaTeX Font Info:    ... okay on input line 5.\n",
       "LaTeX Font Info:    Checking defaults for OMS/cmsy/m/n on input line 5.\n",
       "LaTeX Font Info:    ... okay on input line 5.\n",
       "LaTeX Font Info:    Checking defaults for OMX/cmex/m/n on input line 5.\n",
       "LaTeX Font Info:    ... okay on input line 5.\n",
       "LaTeX Font Info:    Checking defaults for U/cmr/m/n on input line 5.\n",
       "LaTeX Font Info:    ... okay on input line 5.\n",
       " ABD: EveryShipout initializing macros\n",
       "(/usr/share/texlive/texmf-dist/tex/context/base/mkii/supp-pdf.mkii\n",
       "[Loading MPS to PDF converter (version 2006.09.02).]\n",
       "\\scratchcounter=\\count109\n",
       "\\scratchdimen=\\dimen151\n",
       "\\scratchbox=\\box38\n",
       "\\nofMPsegments=\\count110\n",
       "\\nofMParguments=\\count111\n",
       "\\everyMPshowfont=\\toks28\n",
       "\\MPscratchCnt=\\count112\n",
       "\\MPscratchDim=\\dimen152\n",
       "\\MPnumerator=\\count113\n",
       "\\makeMPintoPDFobject=\\count114\n",
       "\\everyMPtoPDFconversion=\\toks29\n",
       ") (/usr/share/texlive/texmf-dist/tex/latex/oberdiek/epstopdf-base.sty\n",
       "Package: epstopdf-base 2016/05/15 v2.6 Base part for package epstopdf\n",
       "\n",
       "(/usr/share/texlive/texmf-dist/tex/generic/oberdiek/infwarerr.sty\n",
       "Package: infwarerr 2016/05/16 v1.4 Providing info/warning/error messages (HO)\n",
       ")\n",
       "(/usr/share/texlive/texmf-dist/tex/latex/oberdiek/grfext.sty\n",
       "Package: grfext 2016/05/16 v1.2 Manage graphics extensions (HO)\n",
       "\n",
       "(/usr/share/texlive/texmf-dist/tex/generic/oberdiek/kvdefinekeys.sty\n",
       "Package: kvdefinekeys 2016/05/16 v1.4 Define keys (HO)\n",
       "\n",
       "(/usr/share/texlive/texmf-dist/tex/generic/oberdiek/ltxcmds.sty\n",
       "Package: ltxcmds 2016/05/16 v1.23 LaTeX kernel commands for general use (HO)\n",
       ")))\n",
       "(/usr/share/texlive/texmf-dist/tex/latex/oberdiek/kvoptions.sty\n",
       "Package: kvoptions 2016/05/16 v3.12 Key value format for package options (HO)\n",
       "\n",
       "(/usr/share/texlive/texmf-dist/tex/generic/oberdiek/kvsetkeys.sty\n",
       "Package: kvsetkeys 2016/05/16 v1.17 Key value parser (HO)\n",
       "\n",
       "(/usr/share/texlive/texmf-dist/tex/generic/oberdiek/etexcmds.sty\n",
       "Package: etexcmds 2016/05/16 v1.6 Avoid name clashes with e-TeX commands (HO)\n",
       "Package etexcmds Info: Could not find \\expanded.\n",
       "(etexcmds)             That can mean that you are not using pdfTeX 1.50 or\n",
       "(etexcmds)             that some package has redefined \\expanded.\n",
       "(etexcmds)             In the latter case, load this package earlier.\n",
       ")))\n",
       "(/usr/share/texlive/texmf-dist/tex/generic/oberdiek/pdftexcmds.sty\n",
       "Package: pdftexcmds 2018/01/21 v0.26 Utility functions of pdfTeX for LuaTeX (HO\n",
       ")\n",
       "Package pdftexcmds Info: LuaTeX not detected.\n",
       "Package pdftexcmds Info: \\pdf@primitive is available.\n",
       "Package pdftexcmds Info: \\pdf@ifprimitive is available.\n",
       "Package pdftexcmds Info: \\pdfdraftmode found.\n",
       ")\n",
       "Package epstopdf-base Info: Redefining graphics rule for `.eps' on input line 4\n",
       "38.\n",
       "Package grfext Info: Graphics extension search list:\n",
       "(grfext)             [.pdf,.png,.jpg,.mps,.jpeg,.jbig2,.jb2,.PDF,.PNG,.JPG,.JPE\n",
       "G,.JBIG2,.JB2,.eps]\n",
       "(grfext)             \\AppendGraphicsExtensions on input line 456.\n",
       "\n",
       "(/usr/share/texlive/texmf-dist/tex/latex/latexconfig/epstopdf-sys.cfg\n",
       "File: epstopdf-sys.cfg 2010/07/13 v1.3 Configuration of (r)epstopdf for TeX Liv\n",
       "e\n",
       "))\n",
       "\n",
       "! Package pgf Error: No shape named A is known.\n",
       "\n",
       "See the pgf package documentation for explanation.\n",
       "Type  H <return>  for immediate help.\n",
       " ...                                              \n",
       "                                                  \n",
       "l.41 \\draw[color=blue] (A)\n",
       "                           -- (Y);\n",
       "? \n",
       "! Emergency stop.\n",
       " ...                                              \n",
       "                                                  \n",
       "l.41 \\draw[color=blue] (A)\n",
       "                           -- (Y);\n",
       "End of file on the terminal!\n",
       "\n",
       " \n",
       "Here is how much of TeX's memory you used:\n",
       " 11763 strings out of 494847\n",
       " 239716 string characters out of 6179080\n",
       " 288103 words of memory out of 5000000\n",
       " 14882 multiletter control sequences out of 15000+600000\n",
       " 3640 words of font info for 14 fonts, out of 8000000 for 9000\n",
       " 59 hyphenation exceptions out of 8191\n",
       " 55i,7n,56p,385b,537s stack positions out of 5000i,500n,10000p,200000b,80000s\n",
       "!  ==> Fatal error occurred, no output PDF file produced!\n"
      ]
     },
     "metadata": {},
     "output_type": "display_data"
    }
   ],
   "source": [
    "%%tikz -s 400,400 -sc 1. -f svg\n",
    "%%%#\\begin{tikzpicture}[scale=0.9, line cap=round,line join=round,>=triangle \n",
    "%%%#45,x=0.25cm,y=0.25cm]\n",
    "\\draw[step=1cm,gray,very thin] (-31,-31) grid (31,31);\n",
    "\n",
    "\n",
    "\n",
    "\n",
    "\n",
    "\\draw [->] (-31.0,-31.0) node[left]{} -- (-31.,31.) node[right]{}; % scale Y\n",
    "\\draw [->] (31.0,-31.0) node[left]{} -- (31.,31.) node[right]{}; % \n",
    "\\draw [->] (-31.0,-31.0) node[left]{} -- (31.8,-31.0) node[right]{}; % scale d\n",
    "\\draw [->] (-31.0,-34.) node[left]{} -- (31.8,-34.) node[right]{};   % scale k\n",
    "\\draw [->] (-34.0,-31.) node[left]{} -- (-34.,34.) node[right]{};   % scale Y'\n",
    "%%%# Blue Dashed Horizontal lines\n",
    "\\draw [-,color=blue,dashed] (-34.0,-2.8) node[left]{} -- (-2.8,-2.8) node[right]{};   % Scalar Boson horizontal line\n",
    "\\draw [-,color=green,dashed] (-34.0,0.) node[left]{} -- (0.,0.) node[right]{};   % bicodon horizontal line\n",
    "\\draw [-,color=red,dashed] (-34.0,31.) node[left]{} -- (31.,31.) node[right]{};   % Cosmos horizontal line\n",
    "%%%# Blue Dashed Vertical lines\n",
    "\\draw [-,color=blue,dashed] (-28.0,-32.) node[left]{} -- (-28.,-28.) node[right]{};   % String vertical line\n",
    "\\draw [-,color=blue,dashed] (-20.0,-32.) node[left]{} -- (-20.,-20.) node[right]{};   % Gluon vertical line\n",
    "\\draw [-,color=blue,dashed] (-12.0,-32.) node[left]{} -- (-12.,-12.) node[right]{};   % ATOM DIAMETER vertical line\n",
    "\\draw [-,color=blue,dashed] (-10.0,-32.) node[left]{} -- (-10.,-10.) node[right]{};   % Kaon vertical line\n",
    "\\draw [-,color=blue,dashed] (-4.0,-32.) node[left]{} -- (-4.,-4.) node[right]{};   % Half Mean Weak Boson vertical line\n",
    "\\draw [-,color=blue,dashed] (-3.0,-32.) node[left]{} -- (-3.,-3.) node[right]{};   % Scalar Boson vertical line\n",
    "\\draw [-,color=blue,dashed] (0.,-32.) node[left]{} -- (0.,0.) node[right]{};   % Bicodon vertical line\n",
    "\\draw [-,color=blue,dashed] (4.1,-32.) node[left]{} -- (4.1,4.1) node[right]{};   % Thermal Photon vertical line\n",
    "\\draw [-,color=blue,dashed] (12.1,-32.) node[left]{} -- (12.1,12.1) node[right]{};   % Boson X GUT vertical line\n",
    "\\draw [-,color=blue,dashed] (16.,-32.) node[left]{} -- (16.,16.) node[right]{};   % Photon vertical line\n",
    "\\draw [-,color=blue,dashed] (18.25,-32.) node[left]{} -- (18.25,18.25) node[right]{};   % Galaxy group vertical line\n",
    "\\draw [-,color=blue,dashed] (20.0,-32.) node[left]{} -- (20.0,20.) node[right]{};   % Gravitonde vertical line\n",
    "\\draw [-,color=blue,dashed] (28.0,-32.) node[left]{} -- (28.0,28.0) node[right]{};   % Super Period vertical line\n",
    "\\draw [-,color=blue,dashed] (29.,-32.) node[left]{} -- (29.,29.0) node[right]{};   % Topon vertical line\n",
    "\\draw [-,color=red,dashed] (31.0,-36.) node[left]{} -- (31.,31.) node[right]{};   % Cosmos vertical line\n",
    "\n",
    "\\draw[color=blue] (A) -- (Y);\n",
    "\\node [anchor = text=blue] at (-8.,35.75) {\\Large{TOPOLOGICAL AXIS}};\n",
    "\\node [anchor = text=black] at (-6.,33.75) {\\tiny{Caracteristics length follow the law: $exp(2^{d/4})$}};\n",
    "\\node [anchor = text=black] at (-10.,32.75) {\\tiny{Unit length: electron Compton reduced wavelength $\\hbar m_e c=\\lambdabar_e$}};\n",
    "\\node [anchor = text=black] at (-12.,31.75) {\\tiny{Super Period unit: $\\lambdabar_e/c$. Photonde and Gravitonde masses unit: $2\\pi m_N$}};\n",
    "\\node [anchor = east,text=red] at (31.75,31.75) {\\Large{COSMOS}};\n",
    "\\node [anchor = south] at (-28.,-33.0) {$2$};\n",
    "\\node [anchor = south] at (-28.,-36.0) {$0$};\n",
    "\\node [anchor = north] at (-28.,-28.0) {$STRING$};\n",
    "\\node [anchor = south] at (-20.,-33.0) {$6$};\n",
    "\\node [anchor = south] at (-20.,-36.0) {$1$};\n",
    "\\node [anchor = east] at (-20.,-20.0) {$GLUON$};\n",
    "\\node [anchor = south] at (-12.,-33.0) {$10$};\n",
    "\\node [anchor = south] at (-10.,-33.0) {$11$};\n",
    "\\node [anchor = south] at (-12.,-36.0) {$2$};\n",
    "\\node [anchor = east] at (-12.,-12.) {MEAN BOSON PI};\n",
    "\\node [anchor = west,color=red] at (-12.,-12.) {ATOM DIAMETER};\n",
    "\\node [anchor = east] at (-10.,-10.) {KAON};\n",
    "\\node [anchor = south] at (-4.25,-33.0) {$14$};\n",
    "\\node [anchor = south] at (-4.25,-36.0) {$3$};\n",
    "\\node [anchor = east] at (-4.5,-4.5) {HALF MEAN WEAK BOSON};\n",
    "\\node [anchor = west,color=red] at (-4.5,-4.5){HALF RYDBERG WAVELENGTH};\n",
    "\\node [anchor = south] at (-2.75,-31.0) {$\\gamma\\Gamma$};\n",
    "\\node [anchor = east,color=black] at (-3.0,-3.0){SCALAR BOSON};\n",
    "\\node [anchor = west,color=black] at (-3.0,-3.0){$125GeV$};\n",
    "\\node [anchor = south,color=black!40!green] at (0.,-33.0) {\\textbf{16}};\n",
    "\\node [anchor = east,color=black!40!green] at (0.,0.0) {DNA BI-CODON};\n",
    "\\node [anchor = west,color=black!40!green] at (0.,0.0) {$\\times$ $\\phi_9^2$};\n",
    "\\node [anchor = south] at (4.25,-33.0) {$18$};\n",
    "\\node [anchor = south] at (4.25,-36.0) {$4$};\n",
    "\\node [cross,anchor = west,color=red] at (4.25,4.25){THERMAL PHOTON: $\\hbar c/2k$};\n",
    "\\node [cross,anchor = west,color=red] at (3.25,3.25){T=2.73 Kelvin $\\approx T_{mam}/j$};\n",
    "\\node [anchor = south] at (12.25,-33.0) {$22$};\n",
    "\\node [anchor = south] at (12.25,-36.0) {$5$};\n",
    "\\node [anchor = east,color=black] at (12.25,12.250){BOSON $X_{GUT}:2.3 \\times 10^{16}$GeV};\n",
    "\\node [anchor = east,color=black!40!green] at (16.,16.){$PHOTONDE$};\n",
    "\\node [anchor = west,color=red] at (16.,16.){Kotov Length $\\times$ $2\\pi$a};\n",
    "\\node [anchor = west,color=red] at (18.25,18.250){Galaxy group};\n",
    "\\node [anchor = south,color=red] at (18.25,-31.0) {$\\Gamma$};\n",
    "\\node [anchor = east,color=black!40!green] at (20.,20.0){$GRAVITONDE$};\n",
    "\\node [anchor = west,color=red] at (20.,20.0){Hubble Radius $\\times$ 6};\n",
    "\\node [anchor = south] at (16.25,-33.0) {\\textbf{24}};\n",
    "\\node [anchor = east,color=black!40!green] at (28.25,28.250){$Super Period$};\n",
    "\\node [anchor = east,color=black] at (29.25,29.250){$TOPON$\\tiny{:Visible universe wavelength}};\n",
    "\\node [anchor = east,color=black] at (-8.25,24.250){\\LARGE{MICROPHYSICS}};\n",
    "\\node [anchor = east,color=black] at (-8.25,22.250){$Y=\\ln\\ln(\\lambdabar_e(n)/\\lambdabar_{MICRO})$};\n",
    "\\node [anchor = east,color=red] at (22.25,-20.250){\\LARGE{MACROPHYSICS}};\n",
    "\\node [anchor = east,color=red] at (22.25,-22.250){$Y=\\ln\\ln(\\lambdabar_{MACRO}(n)/\\lambdabar_{e})$};\n",
    "\\node [anchor = south] at (20.25,-33.0) {$26$};\n",
    "\\node [anchor = south] at (20.25,-36.0) {$6$};\n",
    "\\node [anchor = south] at (28.25,-33.0) {$30$};\n",
    "\\node [anchor = south] at (28.25,-36.0) {$7$};\n",
    "\\node [anchor = south] at (31.25,-36.0) {$e^2$};\n",
    "\\node [anchor = south] at (29.25,-31.0) {$2e^e$};\n",
    "\\node [anchor = south] at (32.6,-33.00) {$d$};\n",
    "\\node [anchor = south] at (32.6,-36.00) {$k$};\n",
    "%%%# Y AXIS\n",
    "\\node [anchor = north] at (-31.55,-31.0) {$0$};\n",
    "\\node [anchor = north] at (-31.55,-19.0) {$1$};\n",
    "\\node [anchor = north] at (-31.55,-7.0) {$2$};\n",
    "\\node [anchor = north] at (-31.55, 5.0) {$3$};\n",
    "\\node [anchor = north] at (-28.55, 1.0) {$\\pi-1/e$};\n",
    "\\node [anchor = north] at (-31.55, 16.0) {$4$};\n",
    "\\node [anchor = north] at (-31.55, 26.0) {$5$};\n",
    "\\node [anchor = north] at (-31.55, 32.4) {$2e$};\n",
    "%%%## Y' AXIS\n",
    "\\node [anchor = north] at (-34.25,-31.0) {$e$};\n",
    "\\node [anchor = north] at (-34.25,-20.0) {$10$};\n",
    "\\node [anchor = north] at (-34.25,-12.0) {$100$};\n",
    "\\node [anchor = north] at (-34.25,-2.0) {$495^2$};\n",
    "\\node [anchor = north] at (-34.25,4.0) {$10^{10}$};\n",
    "\\node [anchor = north] at (-34.25,12.0) {$10^{20}$};\n",
    "\\node [anchor = north] at (-34.25,20.0) {$10^{40}$};\n",
    "\\node [anchor = north] at (-34.25,28.0) {$10^{80}$};\n",
    "\\node [anchor = north] at (-34.25,36.0) {$Y=\\ln\\ln(y)$};\n",
    "%%%# SLOPE\n",
    "\n",
    "\n"
   ]
  },
  {
   "cell_type": "code",
   "execution_count": null,
   "metadata": {},
   "outputs": [],
   "source": []
  }
 ],
 "metadata": {
  "celltoolbar": "Edit Metadata",
  "hide_input": false,
  "ipub": {
   "bibliography": "topological-axis.bib",
   "language": "english",
   "listcode": true,
   "listfigures": true,
   "listtables": true,
   "titlepage": {
    "author": "L.Gueroult/F.Sanchez",
    "email": "hol137@yahoo.fr",
    "institution": [
     "University of Paris-Orsay"
    ],
    "logo": "",
    "subtitle": "Common Macro-Micro Physics relations in Biology and Cosmology",
    "supervisors": [
     "Second Supervisor"
    ],
    "tagline": "A tagline for the report.",
    "title": "Topological Axis"
   },
   "toc": true
  },
  "jupytext": {
   "notebook_metadata_filter": "ipub"
  },
  "kernelspec": {
   "display_name": "Python 3",
   "language": "python",
   "name": "python3"
  },
  "language_info": {
   "codemirror_mode": {
    "name": "ipython",
    "version": 3
   },
   "file_extension": ".py",
   "mimetype": "text/x-python",
   "name": "python",
   "nbconvert_exporter": "python",
   "pygments_lexer": "ipython3",
   "version": "3.7.6"
  },
  "latex_envs": {
   "LaTeX_envs_menu_present": true,
   "autocomplete": true,
   "bibliofile": "topological-axis.bib",
   "cite_by": "apalike",
   "current_citInitial": 1,
   "eqLabelWithNumbers": true,
   "eqNumInitial": 1,
   "hotkeys": {
    "equation": "Ctrl-E",
    "itemize": "Ctrl-I"
   },
   "labels_anchors": false,
   "latex_user_defs": false,
   "report_style_numbering": false,
   "user_envs_cfg": true
  },
  "nav_menu": {},
  "toc": {
   "colors": {
    "hover_highlight": "#DAA520",
    "navigate_num": "#000000",
    "navigate_text": "#333333",
    "running_highlight": "#FF0000",
    "selected_highlight": "#FFD700",
    "sidebar_border": "#EEEEEE",
    "wrapper_background": "#FFFFFF"
   },
   "moveMenuLeft": true,
   "nav_menu": {
    "height": "161px",
    "width": "252px"
   },
   "navigate_menu": true,
   "number_sections": true,
   "sideBar": true,
   "threshold": 4,
   "toc_cell": false,
   "toc_section_display": "block",
   "toc_window_display": true,
   "widenNotebook": false
  },
  "varInspector": {
   "cols": {
    "lenName": 16,
    "lenType": 16,
    "lenVar": 40
   },
   "kernels_config": {
    "python": {
     "delete_cmd_postfix": "",
     "delete_cmd_prefix": "del ",
     "library": "var_list.py",
     "varRefreshCmd": "print(var_dic_list())"
    },
    "r": {
     "delete_cmd_postfix": ") ",
     "delete_cmd_prefix": "rm(",
     "library": "var_list.r",
     "varRefreshCmd": "cat(var_dic_list()) "
    }
   },
   "types_to_exclude": [
    "module",
    "function",
    "builtin_function_or_method",
    "instance",
    "_Feature"
   ],
   "window_display": false
  }
 },
 "nbformat": 4,
 "nbformat_minor": 2
}
